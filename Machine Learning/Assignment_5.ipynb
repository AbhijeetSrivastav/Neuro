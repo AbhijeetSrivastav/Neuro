{
 "cells": [
  {
   "cell_type": "markdown",
   "metadata": {},
   "source": [
    "Q1. What are the key tasks that machine learning entails? What does data pre-processing imply?"
   ]
  },
  {
   "cell_type": "markdown",
   "metadata": {},
   "source": [
    "Ans:\n",
    "\n",
    "- Key tasks of Machine Learning:\n",
    "    - Data Collection\n",
    "    - Data Preprocessing\n",
    "    - Exploratory Data Analysis\n",
    "    - Model Training\n",
    "    - Model Validation\n",
    "    - Model Evaluation\n",
    "\n",
    "- Data Preprocessing component of machine learning deals with various tasks such as:\n",
    "    - Treating null and NA values\n",
    "    - Converting each features(columns) to relevant data type.\n",
    "    - Treating Outliers\n",
    "    - Removing unnecessary features.\n",
    "    - Data normalization\n",
    "    - Data Scaling\n",
    "    - Data encoding"
   ]
  },
  {
   "cell_type": "markdown",
   "metadata": {},
   "source": [
    "Q2. Describe quantitative and qualitative data in depth. Make a distinction between the two."
   ]
  },
  {
   "cell_type": "markdown",
   "metadata": {},
   "source": [
    "Ans:\n",
    "\n",
    "- Quantitative data are data collected about a numeric variable.\n",
    "- Qualitative data are data collected about categorical variable."
   ]
  },
  {
   "cell_type": "markdown",
   "metadata": {},
   "source": [
    "Q3. Create a basic data collection that includes some sample records. Have at least one attribute from\n",
    "each of the machine learning data types."
   ]
  },
  {
   "cell_type": "markdown",
   "metadata": {},
   "source": [
    "Ans: Example of a data with all data types of machine learning:\n",
    "\n",
    "\n",
    "```\n",
    "---------------------------------------\n",
    "Height | Age | Name | Class| DOB      |\n",
    "---------------------------------------\n",
    "107.5    |  20 | Abhi |  I | 02092002 |\n",
    "```\n",
    "\n",
    "\n",
    "Where:\n",
    " - Height: float64\n",
    " - Age: int64\n",
    " - Name: object\n",
    " - Class: object\n",
    " - DOB: datetime64[ns]"
   ]
  },
  {
   "cell_type": "markdown",
   "metadata": {},
   "source": [
    "Q4. What are the various causes of machine learning data issues? What are the ramifications?"
   ]
  },
  {
   "cell_type": "markdown",
   "metadata": {},
   "source": [
    "Ans: \n",
    "\n",
    "- Causes of various machine leaning issues are:\n",
    "    - Noisy data\n",
    "    - Miss match data type\n",
    "    - Missing values\n",
    "    - Outliers\n",
    "\n",
    "- Ramifications(or indirect effect of actions) on machine learning are:\n",
    "    - Over fitting\n",
    "    - Under fitting\n",
    "    - Wrong classification\n",
    "    - Wrong segmentation\n",
    "    - etc\n"
   ]
  },
  {
   "cell_type": "markdown",
   "metadata": {},
   "source": [
    "Q5. Demonstrate various approaches to categorical data exploration with appropriate examples."
   ]
  },
  {
   "cell_type": "markdown",
   "metadata": {},
   "source": [
    "Ans: \n",
    "\n",
    "Various approaches to categorical data exploration are:\n",
    "- Counting the unique values in a feature or column.\n",
    "- Analyzing the continuos feature with hue of classes in feature.\n",
    "- Analyzing amount of data for each feature with respect to classes in categorical feature to check whether the dataset is balance or not."
   ]
  },
  {
   "cell_type": "markdown",
   "metadata": {},
   "source": [
    "Q6. How would the learning activity be affected if certain variables have missing values? Having said\n",
    "that, what can be done about it?"
   ]
  },
  {
   "cell_type": "markdown",
   "metadata": {},
   "source": [
    "Ans:\n",
    "\n",
    "- Affect of missing values on learning activity:\n",
    "    - Underlying relation between features cant be found out correctly.\n",
    "    - It leads to unbalance data(data of one class too much then other class)\n",
    "\n",
    "- Dealing with missing values:\n",
    "    - Simplest is to remove all the missing values throughout the row of all the features(Not possible to use always and not recommended).\n",
    "    - Replacing the missing values with any central tendency value of that particular feature(mean, median, mode).\n",
    "    - Develop another model to predict those values(synthetic data)."
   ]
  },
  {
   "cell_type": "markdown",
   "metadata": {},
   "source": [
    "Q7. Describe the various methods for dealing with missing data values in depth."
   ]
  },
  {
   "cell_type": "markdown",
   "metadata": {},
   "source": [
    "Ans:\n",
    "\n",
    "- Removing values:\n",
    "    - If a feature(column) has more than 60% missing values simply drop that column.\n",
    "    - If entire row has several missing values, drop that row.\n",
    "    - If their is missing value in a column for specific row and their is no missing value in any other row, still drop that row.\n",
    "\n",
    "- Replacement:\n",
    "    - Replace missing values with the central tendency of that feature such as mean or median.\n",
    "    - Replace missing value with most frequent value of that feature.\n",
    "    - Replace the missing value at nth position with average value of (n + 1) and (n + 2) position values.\n",
    "\n",
    "- Predicting missing values:\n",
    "    - Build a model that predicts the value of a feature based on several input features of the dataset to fill these missing values. When the values are filled use this new dataset to solve the original problem.\n"
   ]
  },
  {
   "cell_type": "markdown",
   "metadata": {},
   "source": [
    "Q8. What are the various data pre-processing techniques? Explain dimensionality reduction and\n",
    "function selection in a few words."
   ]
  },
  {
   "cell_type": "markdown",
   "metadata": {},
   "source": [
    "Ans:\n",
    "\n",
    "Various data preprocessing techniques:\n",
    "- Data cleaning\n",
    "- Data scaling\n",
    "- Data normalization\n",
    "- Data reduction\n",
    "- Feature selection\n",
    "\n",
    "**Dimensionality Reduction:** This reduce the size of data by encoding mechanisms.It can be lossy or lossless. If after reconstruction from compressed data, original data can be retrieved, such reduction are called lossless reduction else it is called lossy reduction. The two effective methods of dimensionality reduction are:Wavelet transforms and PCA (Principal Component Analysis).\n",
    "\n",
    "**Feature selection:** is simply selecting and excluding given features without changing them. Dimensionality reduction transforms features into a lower dimension."
   ]
  },
  {
   "cell_type": "markdown",
   "metadata": {},
   "source": [
    "Q9.\n",
    "\n",
    "i. What is the IQR? What criteria are used to assess it?\n",
    "\n",
    "ii. Describe the various components of a box plot in detail? When will the lower whisker\n",
    "surpass the upper whisker in length? How can box plots be used to identify outliers?\n"
   ]
  },
  {
   "cell_type": "markdown",
   "metadata": {},
   "source": [
    "Ans:\n",
    "\n",
    "**Inter Quatile Range (IQR)** It is difference of third(Q3) and first(Q1) quartiles.\n",
    "```\n",
    "IQR = Q3 - Q1\n",
    "```\n",
    "\n",
    "![BoxPlot](../Assets/box_plot.jpg)"
   ]
  },
  {
   "cell_type": "markdown",
   "metadata": {},
   "source": [
    "Q10. Make brief notes on any two of the following:\n",
    "\n",
    "1. Data collected at regular intervals\n",
    "\n",
    "2. The gap between the quartiles\n",
    "\n",
    "3. Use a cross-tab\n",
    "\n",
    "1. Make a comparison between:\n",
    "\n",
    "1. Data with nominal and ordinal values\n",
    "\n",
    "2. Histogram and box plot\n",
    "\n",
    "3. The average and median"
   ]
  },
  {
   "cell_type": "markdown",
   "metadata": {},
   "source": [
    "Ans: \n",
    "\n",
    "- Data collected at regular intervals:\n",
    "    - Interval data type of discrete data and is data collected at specified interval.\n",
    "    -  Ex-  Measuring fever each hour of a patient.\n",
    "\n",
    "- The gap between the quartiles:\n",
    "    - It is difference of third(Q3) and first(Q1) quartiles called Inter quartile range(IQR)\n",
    "    ```\n",
    "    IQR = Q3 - Q1\n",
    "    ```"
   ]
  },
  {
   "cell_type": "markdown",
   "metadata": {},
   "source": [
    "Q11. Make a comparison between ?\n",
    "\n",
    " 1. Data with nominal and ordinal values\n",
    " 2. Histogram and box plot\n",
    " 3. The average and median"
   ]
  },
  {
   "cell_type": "markdown",
   "metadata": {},
   "source": [
    "Ans: \n",
    "\n",
    "- Average(mean) vs median:\n",
    "  ```\n",
    "  total number of values = n\n",
    "  \n",
    "  mean = sum of all values / total n of values\n",
    "\n",
    "  If total number of values are odd:\n",
    "    \n",
    "    median = (n + 1) / 2\n",
    "  \n",
    "  If total number of values are even:\n",
    "  \n",
    "     median  =  n / 2\n",
    "\n",
    "  ```\n",
    "\n",
    "\n",
    "- Histogram vs Boxplot:\n",
    "    - Histogram used to visualize the distribution of numerical data.\n",
    "    - Boxplot are used to compare multiple features together and mostly used to detect outliers.\n",
    "\n",
    "\n",
    "- Nominal Data vs Ordinal Data:\n",
    "    - Nominal data are categorical non quantitative data.\n",
    "    - Ordinal data are categorical quantitative data.\n",
    "    - Ex - nominal: gender, ordinal: grades "
   ]
  }
 ],
 "metadata": {
  "kernelspec": {
   "display_name": "Python 3.9.7 64-bit",
   "language": "python",
   "name": "python3"
  },
  "language_info": {
   "name": "python",
   "version": "3.9.7"
  },
  "orig_nbformat": 4,
  "vscode": {
   "interpreter": {
    "hash": "2a8dfe095fce2b5e88c64a2c3ee084c8e0e0d70b23e7b95b1cfb538be294c5c8"
   }
  }
 },
 "nbformat": 4,
 "nbformat_minor": 2
}
