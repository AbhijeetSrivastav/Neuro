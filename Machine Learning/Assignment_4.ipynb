{
 "cells": [
  {
   "cell_type": "markdown",
   "metadata": {},
   "source": [
    "Q1. What are the key tasks involved in getting ready to work with machine learning modeling?"
   ]
  },
  {
   "cell_type": "markdown",
   "metadata": {},
   "source": [
    "Ans: Tasks involved in Machine Learning process are:\n",
    "- Data Gathering\n",
    "- Exploratory Data analysis\n",
    "- Data preprocessing\n",
    "- Scaling\n",
    "- Model Building\n",
    "- Model evaluation\n",
    "- Predictions"
   ]
  },
  {
   "cell_type": "markdown",
   "metadata": {},
   "source": [
    "Q2. What are the different forms of data used in machine learning? Give a specific example for each of\n",
    "them."
   ]
  },
  {
   "cell_type": "markdown",
   "metadata": {},
   "source": [
    "Ans: Data forms used in machine learning are:\n",
    "- **Numerical data:** \n",
    "    - Data with exact numbers\n",
    "    - They are of two types:\n",
    "        - **Continuos:** Numbers which can be in form or integers and decimals, ex - height\n",
    "        - **Discrete:** Numbers which can be in form of integer and whole number, ex- parts in car \n",
    "- **Categorical data:**\n",
    "    - Data which represent characteristics and are in form of strings\n",
    "    - ex -  gender\n",
    "-**Time series data:**\n",
    "    - Sequence of numbers collected at regular intervals over some period of time.\n",
    "    - ex - stock market data"
   ]
  },
  {
   "cell_type": "markdown",
   "metadata": {},
   "source": [
    "Q3. Distinguish:\n",
    "\n",
    "1. Numeric vs. categorical attributes\n",
    "\n",
    "2. Feature selection vs. dimensionality reduction"
   ]
  },
  {
   "cell_type": "markdown",
   "metadata": {},
   "source": [
    "Ans:\n",
    "\n",
    "**Numeric vs Categorical data:**\n",
    "- Numerical data are data with exact numbers, ex- height\n",
    "- Categorical data represent characteristics and are in form of strings,ex - gender\n",
    "\n",
    "**Feature selection vs dimensionality reduction:**\n",
    "- Feature we just select a subset of the original feature set, without any manipulation of the data on the other hand.\n",
    "- Dimensionality reduction is typically choosing a new representation within which we can describe most but not all of the variance within your data, thereby retaining the relevant information, while reducing the amount of information necessary to represent it."
   ]
  },
  {
   "cell_type": "markdown",
   "metadata": {},
   "source": [
    "Q4. Make quick notes on any two of the following:\n",
    "\n",
    "1. The histogram\n",
    "\n",
    "2. Use a scatter plot\n",
    "\n",
    "3. PCA (Personal Computer Aid)"
   ]
  },
  {
   "cell_type": "markdown",
   "metadata": {},
   "source": [
    "Ans: \n",
    "\n",
    "**Histogram:** \n",
    "A Histogram is a graphical representation that organizes a group of data points into user-specified ranges. Histogram condenses a data series into an easily interpreted visual by taking many data points and grouping them into logical ranges or bins.\n",
    "\n",
    "**Scatter plot:**\n",
    "A scatter plot uses dots to represent values for two different numeric variables. The position of each dot on the horizontal and vertical axis indicates values for an individual data point. Scatter plots are used to observe relationships between variables."
   ]
  },
  {
   "cell_type": "markdown",
   "metadata": {},
   "source": [
    "Q5. Why is it necessary to investigate data? Is there a discrepancy in how qualitative and quantitative\n",
    "data are explored?"
   ]
  },
  {
   "cell_type": "markdown",
   "metadata": {},
   "source": [
    "Ans: Investigation of data is necessary to detect and treat these issues:\n",
    "- Missing values\n",
    "- Outliers\n",
    "- Garbage data\n",
    "- Feature selection\n",
    "- Correlation analysis"
   ]
  },
  {
   "cell_type": "markdown",
   "metadata": {},
   "source": [
    "Q6. What are the various histogram shapes? What exactly are ‘bins&#39;?"
   ]
  },
  {
   "cell_type": "markdown",
   "metadata": {},
   "source": [
    "Ans: Different histogram shapes are:\n",
    "- Uniform histogram\n",
    "- Symmetric histogram\n",
    "- Bimodal histogram\n",
    "- Probability histogram\n",
    "\n",
    "**Bin**\n",
    "It is the choice of unit and spacing on the x-axis in a histogram. "
   ]
  },
  {
   "cell_type": "markdown",
   "metadata": {},
   "source": [
    "Q7. How do we deal with data outliers?"
   ]
  },
  {
   "cell_type": "markdown",
   "metadata": {},
   "source": [
    "Ans: We have several ways to treat outliers:\n",
    "- Z-Score\n",
    "- IQR"
   ]
  },
  {
   "cell_type": "markdown",
   "metadata": {},
   "source": [
    "Q8. What are the various central inclination measures? Why does mean vary too much from median in\n",
    "certain data sets?"
   ]
  },
  {
   "cell_type": "markdown",
   "metadata": {},
   "source": [
    "Ans: Various central inclination measures are:\n",
    "- Mean\n",
    "- Median\n",
    "- Mode\n",
    "\n",
    "Mean varies too much from median for certain datasets due to presence of outliers."
   ]
  },
  {
   "cell_type": "markdown",
   "metadata": {},
   "source": [
    "Q9. Describe how a scatter plot can be used to investigate bivariate relationships. Is it possible to find\n",
    "outliers using a scatter plot?"
   ]
  },
  {
   "cell_type": "markdown",
   "metadata": {},
   "source": [
    "Ans: \n",
    "\n",
    "**Investigating bivariate relationship**\n",
    "Scatter plot plots dots for the corresponding values of two variables on a graph which represents how value of one variable changes with change in value of another variable, which can be used to analyze the relationship between two variables.\n",
    "\n",
    "**Finding outliers using scatter plot**\n",
    "Scatter plot plots dots for corresponding variable values, so naturally dots for the dataset should be in certain range or within a specified value on x-axis and y-axis. If any dot lies outside this range it is clearly an outlier."
   ]
  },
  {
   "cell_type": "markdown",
   "metadata": {},
   "source": [
    "Q10. Describe how cross-tabs can be used to figure out how two variables are related."
   ]
  },
  {
   "cell_type": "markdown",
   "metadata": {},
   "source": [
    "Ans: Cross tabulation is a method to quantitatively analyze the relationship between multiple variables. Also known as contingency tables or cross tabs, cross tabulation groups variables to understand the correlation between different variables. It also shows how correlations change from one variable grouping to another."
   ]
  }
 ],
 "metadata": {
  "kernelspec": {
   "display_name": "Python 3.9.12 ('base')",
   "language": "python",
   "name": "python3"
  },
  "language_info": {
   "name": "python",
   "version": "3.9.12"
  },
  "orig_nbformat": 4,
  "vscode": {
   "interpreter": {
    "hash": "198dc38c81252feb4faa0d475279f5f6c993dd4570bd3709069413259282040c"
   }
  }
 },
 "nbformat": 4,
 "nbformat_minor": 2
}
