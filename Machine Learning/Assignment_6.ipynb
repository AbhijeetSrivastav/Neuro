{
 "cells": [
  {
   "cell_type": "markdown",
   "metadata": {},
   "source": [
    "Q1. In the sense of machine learning, what is a model? What is the best way to train a model?"
   ]
  },
  {
   "cell_type": "markdown",
   "metadata": {},
   "source": [
    "Ans: Model is an artifact or output file we get after implementing machine learning algorithm which contains model data such as rules, algorithm specific data structure and numbers use to make predictions.\n",
    "\n",
    "Best way to train model is:\n",
    "- Select relevant dataset with enough data points\n",
    "- Ingest the data\n",
    "- Start training the relevant models\n",
    "- Hyper tune the model to optimize the accuracy\n",
    "- Select the best one based on performance metrics"
   ]
  },
  {
   "cell_type": "markdown",
   "metadata": {},
   "source": [
    "Q2. In the sense of machine learning, explain the &quot;No Free Lunch&quot; theorem.\n"
   ]
  },
  {
   "cell_type": "markdown",
   "metadata": {},
   "source": [
    "Ans:  \"No free lunch\" theorem states that all optimization algorithms perform equally well when their performance is averaged across all possible problems.\n",
    "\n",
    "Roughly speaking we show that for both static and time dependent optimization problems the average performance of any pair of algorithms across all possible problems is exactly identical."
   ]
  },
  {
   "cell_type": "markdown",
   "metadata": {},
   "source": [
    "Q3. Describe the K-fold cross-validation mechanism in detail."
   ]
  },
  {
   "cell_type": "markdown",
   "metadata": {},
   "source": [
    "Ans: \n",
    "\n",
    "- We divide our dataset into two parts one is training and other is test.\n",
    "- where we use test data to measure the performance of model after training set and it is completely isolated from training set. And we use training dataset to train the model.\n",
    "- We further divide our training set into two parts one is training and other one is validation. These are not stored separately instead are dynamic, i.e data points keep switching from one to another.\n",
    "- This dynamic division can be done with many methods, one of them is k fold cross validation.\n",
    "- In this we declare something called k and our datasets get divided into k parts.\n",
    "- At a time k - 1 parts are used for training and kth part used for validation and this kth part is choose randomly. It repeats until k iterations."
   ]
  },
  {
   "cell_type": "markdown",
   "metadata": {},
   "source": [
    "Q4. Describe the bootstrap sampling method. What is the aim of it?"
   ]
  },
  {
   "cell_type": "markdown",
   "metadata": {},
   "source": [
    "Ans: \n",
    "\n",
    "- Bootstrap sampling is one of the way to select sample.\n",
    "- It divides the sample using the random sampling with replacement.\n",
    "- It assigns statistical measures of each sample to sample estimates."
   ]
  },
  {
   "cell_type": "markdown",
   "metadata": {},
   "source": [
    "Q5. What is the significance of calculating the Kappa value for a classification model? Demonstrate\n",
    "how to measure the Kappa value of a classification model using a sample collection of results."
   ]
  },
  {
   "cell_type": "markdown",
   "metadata": {},
   "source": [
    "Ans: \n",
    "\n",
    "- Kappa is performance evaluation metrics for multi class classification models.\n",
    "- It works with imbalanced data as well as.\n",
    "- IT is a measure of how closely the instances classified by the machine learning classifier matched the data labeled as ground truth, controlling for the accuracy of a random classifier as measured by the expected accuracy.\n",
    "- It not only evaluates a classifiers accuracy but also the accuracy of different classifiers with each other."
   ]
  },
  {
   "cell_type": "markdown",
   "metadata": {},
   "source": [
    "Q6. Describe the model ensemble method. In machine learning, what part does it play?\n"
   ]
  },
  {
   "cell_type": "markdown",
   "metadata": {},
   "source": [
    "Ans: Ensemble learning is method of building a more robust model by incorporating several models homogeneously or heterogeneously either in parallel or in series sequence. \n",
    "\n",
    "They are of two types:\n",
    " - Bagging \n",
    " - Boosting\n",
    " - Stacking"
   ]
  },
  {
   "cell_type": "markdown",
   "metadata": {},
   "source": [
    "Q7. What is a descriptive model&#39;s main purpose? Give examples of real-world problems that\n",
    "descriptive models were used to solve."
   ]
  },
  {
   "cell_type": "markdown",
   "metadata": {},
   "source": [
    "Ans: \n",
    "\n",
    "- Descriptive models are unsupervised machine learning models.\n",
    "- It describes the real world events and the relationship between factors responsible for them.\n",
    "\n",
    "Ex- Customer segmentation using clustering."
   ]
  },
  {
   "cell_type": "markdown",
   "metadata": {},
   "source": [
    "Q8. Describe how to evaluate a linear regression model."
   ]
  },
  {
   "cell_type": "markdown",
   "metadata": {},
   "source": [
    "Ans: Their are various ways to evaluate a regression model:\n",
    "- Mean error\n",
    "- Mean squared error\n",
    "- Root mean squared error\n",
    "- Mean absolute error"
   ]
  },
  {
   "cell_type": "markdown",
   "metadata": {},
   "source": [
    "Q9. Distinguish :\n",
    "\n",
    "1. Descriptive vs. predictive models\n",
    "\n",
    "2. Underfitting vs. overfitting the model\n",
    "\n",
    "3. Bootstrapping vs. cross-validation"
   ]
  },
  {
   "cell_type": "markdown",
   "metadata": {},
   "source": [
    "Ans:\n",
    "\n",
    "**Descriptive vs predictive models:**\n",
    "- Descriptive models describes the real world events and the relationship between factors responsible for them, i.e relationship between various features.\n",
    "- Predictive models are used to predict a output feature based on values of input features.\n",
    "\n",
    "\n",
    "**Under fitting vs Over fitting:**\n",
    "- Over fitting occurs when a model was unable to generalize the learning on training set and thus giving high accuracy on training data and less accuracy on test data, i.e Low bias and high variance.\n",
    "- Under fitting is just opposite of over fitting, i.e high bias and low variance.\n",
    "\n",
    "\n",
    "**Bootstrapping vs cross validation:**\n",
    "- Bootstrapping is random with replacement strategy sampling method.\n",
    "- Cross validation is model evaluation method."
   ]
  },
  {
   "cell_type": "markdown",
   "metadata": {},
   "source": [
    "Q10. Make quick notes on:\n",
    "\n",
    "1. LOOCV.\n",
    "\n",
    "2. F-measurement\n",
    "\n",
    "3. The width of the silhouette\n",
    "\n",
    "4. Receiver operating characteristic curve"
   ]
  },
  {
   "cell_type": "markdown",
   "metadata": {},
   "source": [
    "Ans:\n",
    "\n",
    "**LOOCV:** Leave One Out Cross Validation is a form of K-fold cross validation where only one observation is left out for validation purpose while the rest of the data is used for model training each iteration.\n",
    "\n",
    "**F-score:** Harmonic mean of Precision score and recall score is called F-measurement or F-score..\n",
    "\n",
    "**Silhouette:** Average inter cluster distance to give performance of cluster algorithms is called width of the silhouette.\n",
    "\n",
    "\n",
    "**ROC Curve:** I\n",
    "\n",
    "Curve plotted between True Positive Rate and False Positive Rate is Receiver Operating Characteristics curve and is used to find the area under the curve for ROC-AUC score for binary classification evaluation. True Positive Rate and False Positive Rate are calculated for different thresholds values where thresholds take values starting from the highest probability scores assigned to data points and goes up to the lowest probability score. The curve is impacted by presence of outliers, and simple models. Extensions can be made to this curve to suit multi class classification evaluation requirements."
   ]
  }
 ],
 "metadata": {
  "language_info": {
   "name": "python"
  },
  "orig_nbformat": 4
 },
 "nbformat": 4,
 "nbformat_minor": 2
}
