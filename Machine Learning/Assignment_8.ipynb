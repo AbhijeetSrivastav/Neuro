{
 "cells": [
  {
   "cell_type": "markdown",
   "metadata": {},
   "source": [
    "Q1. What exactly is a feature? Give an example to illustrate your point."
   ]
  },
  {
   "cell_type": "markdown",
   "metadata": {},
   "source": [
    "Ans: Feature is representation of an real life objects attribute.\n",
    "\n",
    "Each column in dataset is collection of values of a specific feature collected at various times or environment.\n",
    "\n",
    "Ex - Height, Colour, Time, Weather."
   ]
  },
  {
   "cell_type": "markdown",
   "metadata": {},
   "source": [
    "Q2. What are the various circumstances in which feature construction is required?"
   ]
  },
  {
   "cell_type": "markdown",
   "metadata": {},
   "source": [
    "Ans: Feature construction is process of building new features out of the original features which can help us optimize our model.\n",
    "\n",
    "It gives us more insights about the data.\n",
    "Ex- If we have height and weight data of people we can construct a new feature called BMI which will help us asses whether the person is healthy or not easily.\n",
    "\n",
    "This needs to be done when:\n",
    "- We need more insight from the data.\n",
    "- Features present are not enough to build good model.\n",
    "- Introducing new feature can help improving model performance.\n",
    "- To transform a less relevant feature to more relevant one."
   ]
  },
  {
   "cell_type": "markdown",
   "metadata": {},
   "source": [
    "Q3. Describe how nominal variables are encoded."
   ]
  },
  {
   "cell_type": "markdown",
   "metadata": {},
   "source": [
    "Ans: Nominal variables have discrete values and represent classes such as Male or female.\n",
    "\n",
    "And we can use OneHotEncoder to encode such variables."
   ]
  },
  {
   "cell_type": "markdown",
   "metadata": {},
   "source": [
    "Q4. Describe how numeric features are converted to categorical features."
   ]
  },
  {
   "cell_type": "markdown",
   "metadata": {},
   "source": [
    "Ans: Their are many methods to do so, such as:\n",
    "- Dividing values into discrete intervals.\n",
    "- Clustering the values and labeling each of the clusters as one category.\n",
    "- Dividing data at equal frequency(Binning).\n",
    "- Hashing"
   ]
  },
  {
   "cell_type": "markdown",
   "metadata": {},
   "source": [
    "Q5. Describe the feature selection wrapper approach. State the advantages and disadvantages of this\n",
    "approach?"
   ]
  },
  {
   "cell_type": "markdown",
   "metadata": {},
   "source": [
    "Ans: \n",
    "\n",
    "- Wrapper method measures the importance or extent of effect on model performance.\n",
    "- It follows a greedy search approach by evaluating all the possible combinations of features against the evaluation criterion. So its time taking but accurate.\n",
    "- It offers optimal solution not the best one."
   ]
  },
  {
   "cell_type": "markdown",
   "metadata": {},
   "source": [
    "Q6. When is a feature considered irrelevant? What can be said to quantify it?"
   ]
  },
  {
   "cell_type": "markdown",
   "metadata": {},
   "source": [
    "Ans: Features are irrelevant when they don't affect the output of model.\n",
    "\n",
    "Feature selection can be done by following ways:\n",
    "- Wrapper methods (forward, backward, and stepwise selection)\n",
    "- Filter methods (ANOVA, Pearson correlation, variance thresholding)\n",
    "- Embedded methods (Lasso, Ridge, Decision Tree)."
   ]
  },
  {
   "cell_type": "markdown",
   "metadata": {},
   "source": [
    "Q7. When is a function considered redundant? What criteria are used to identify features that could\n",
    "be redundant?"
   ]
  },
  {
   "cell_type": "markdown",
   "metadata": {},
   "source": [
    "Ans:  When two features are highly correlated then they are redundant features. That simply means we can drop any one of these features as they have quite similar relation with output.\n",
    "\n",
    "Statistically we can find whether feature is redundant or not using correlation value.\n",
    "And we cn also use redundancy minimization algorithms.\n",
    "Even some models like ridge and elastic doest this automatically."
   ]
  },
  {
   "cell_type": "markdown",
   "metadata": {},
   "source": [
    "Q8. What are the various distance measurements used to determine feature similarity?"
   ]
  },
  {
   "cell_type": "markdown",
   "metadata": {},
   "source": [
    "Ans:\n",
    "\n",
    "1. Euclidean Distance\n",
    "2. Manhattan Distance\n",
    "3. Hamming Distance\n",
    "4. Minkowski Distance"
   ]
  },
  {
   "cell_type": "markdown",
   "metadata": {},
   "source": [
    "Q9. State difference between Euclidean and Manhattan distances?"
   ]
  },
  {
   "cell_type": "markdown",
   "metadata": {},
   "source": [
    "Ans:\n",
    "\n",
    "- Euclidean distance si shortest distance between two points.\n",
    "- Manhattan distance is sum of all the possible distance between two points and each distance are always measured in straight line."
   ]
  },
  {
   "cell_type": "markdown",
   "metadata": {},
   "source": [
    "Q10. Distinguish between feature transformation and feature selection."
   ]
  },
  {
   "cell_type": "markdown",
   "metadata": {},
   "source": [
    "Ans: \n",
    "\n",
    "- Feature selection is methodology of selecting those features which affect the model performance with great extent.\n",
    "\n",
    "- Feature transformation is technique to transform values of feature to another values. This is done to get more insight about data or it may also be done to transform data to make it follow a certain kind of distribution which is required by certain machine learning models."
   ]
  },
  {
   "cell_type": "markdown",
   "metadata": {},
   "source": [
    "Q11. Make brief notes on any two of the following:\n",
    "\n",
    "1. SVD (Standard Variable Diameter Diameter)\n",
    "\n",
    "2. Collection of features using a hybrid approach\n",
    "\n",
    "3. The width of the silhouette\n",
    "\n",
    "4. Receiver operating characteristic curve"
   ]
  },
  {
   "cell_type": "markdown",
   "metadata": {},
   "source": [
    "**Silhouette width:**\n",
    "The silhouette width is estimate of the average inter cluster distance.\n",
    "\n",
    "**Receive Operator Characteristic curve**\n",
    "Curve plotted between True Positive Rate and False Positive Rate is Receiver Operating Characteristics curve and is used to find the area under the curve for ROC-AUC score for binary classification evaluation. True Positive Rate and False Positive Rate are calculated for different thresholds values where thresholds take values starting from the highest probability scores assigned to data points and goes up to the lowest probability score. The curve is impacted by presence of outliers, and simple models. Extensions can be made to this curve to suit multi class classification evaluation requirements.\n"
   ]
  }
 ],
 "metadata": {
  "kernelspec": {
   "display_name": "Python 3.9.7 64-bit",
   "language": "python",
   "name": "python3"
  },
  "language_info": {
   "name": "python",
   "version": "3.9.7"
  },
  "orig_nbformat": 4,
  "vscode": {
   "interpreter": {
    "hash": "2a8dfe095fce2b5e88c64a2c3ee084c8e0e0d70b23e7b95b1cfb538be294c5c8"
   }
  }
 },
 "nbformat": 4,
 "nbformat_minor": 2
}
