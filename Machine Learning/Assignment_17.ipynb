{
 "cells": [
  {
   "attachments": {},
   "cell_type": "markdown",
   "metadata": {},
   "source": [
    "Q1. Using a graph to illustrate slope and intercept, define basic linear regression."
   ]
  },
  {
   "attachments": {},
   "cell_type": "markdown",
   "metadata": {},
   "source": [
    "Ans: Linear regression algorithm tries to find a line which passes from or near to all the data points such that cost function is minimized. This line is called best fit line.\n",
    "\n",
    "$$ y = mx + b $$\n",
    "\n",
    "![](../Assets/slpe_intercept.jpg)\n",
    "![](../Assets/slpe_cal.jpg)"
   ]
  },
  {
   "attachments": {},
   "cell_type": "markdown",
   "metadata": {},
   "source": [
    "Q2. In a graph, explain the terms rise, run, and slope."
   ]
  },
  {
   "attachments": {},
   "cell_type": "markdown",
   "metadata": {},
   "source": [
    "Ans:\n",
    "\n",
    "- Slope: It is rate with which line ascends or descends.\n",
    "\n",
    "- Rise over run: The rise over run formula is referred to as the slope formula where the fraction consists of a rise whether the line is going up or down divided by the run i.e. either the line is going left or right.\n",
    "\n",
    "![](../Assets/rise_run.png)\n",
    "\n",
    "$$slope = (y2 - y1) / (x2 - x1)$$\n",
    "\n",
    "$$slope = tan \\theta$$"
   ]
  },
  {
   "attachments": {},
   "cell_type": "markdown",
   "metadata": {},
   "source": [
    "Q3. Use a graph to demonstrate slope, linear positive slope, and linear negative slope, as well as the\n",
    "different conditions that contribute to the slope."
   ]
  },
  {
   "attachments": {},
   "cell_type": "markdown",
   "metadata": {},
   "source": [
    "Ans: \n",
    "- Positive slope means line is ascending and negative slope means line is descending.\n",
    "\n",
    "- Positive Linear Relationship:If the dependent variable increases on the Y-axis and independent variable increases on X-axis, then such a relationship is termed as a Positive linear relationship.\n",
    "\n",
    "![](../Assets/p_slope.png)\n",
    "\n",
    "- Negative Linear Relationship:If the dependent variable decreases on the Y-axis and independent variable increases on the X-axis, then such a relationship is called a negative linear relationship.\n",
    "\n",
    "![](../Assets/n_slope.png)"
   ]
  },
  {
   "attachments": {},
   "cell_type": "markdown",
   "metadata": {},
   "source": [
    "Q4. Use a graph to demonstrate curve linear negative slope and curve linear positive slope."
   ]
  },
  {
   "attachments": {},
   "cell_type": "markdown",
   "metadata": {},
   "source": [
    "Ans: \n",
    "\n",
    "- Curve linear positive slopes: Both graphs at the bottom show curves sloping upward from left to right. As with upward sloping straight lines, we can say that generally the slope of the curve is positive. While the slope will differ at each point on the curve, it will always be positive\n",
    "\n",
    "\n",
    "![](../Assets/cps1.gif)\n",
    "![](../Assets/cps2.gif)\n",
    "\n",
    "- Curve linear negative slopes:In the graphs at the bottom, both of the curves are downward sloping. Straight lines that are downward sloping have negative slopes; curves that are downward sloping also have negative slopes.\n",
    "\n",
    "We know, of course, that the slope changes from point to point on a curve, but all of the slopes along these two curves will be negative.\n",
    "\n",
    "\n",
    "![](../Assets/cns1.gif)\n",
    "![](../Assets/cns2.gif)"
   ]
  },
  {
   "attachments": {},
   "cell_type": "markdown",
   "metadata": {},
   "source": [
    "Q5. Use a graph to show the maximum and low points of curves."
   ]
  },
  {
   "attachments": {},
   "cell_type": "markdown",
   "metadata": {},
   "source": [
    "Ans: \n",
    "\n",
    "- Maximum Point\n",
    "Point A is at the maximum point for this curve. Point A is at the highest point on this curve. It has a greater y-coordinate value than any other point on the curve and has a slope of zero.\n",
    "\n",
    "![](../Assets/mpc.gif)\n",
    "\n",
    "\n",
    "- Minimum Point\n",
    "Point A is at the minimum point for this curve. Point A is at the lowest point on this curve. It has a lower y-coordinate value than any other point on the curve and has a slope of zero.\n",
    "\n",
    "![](../Assets/lpc.gif)"
   ]
  },
  {
   "attachments": {},
   "cell_type": "markdown",
   "metadata": {},
   "source": [
    "Q6. Use the formulas for a and b to explain ordinary least squares."
   ]
  },
  {
   "attachments": {},
   "cell_type": "markdown",
   "metadata": {},
   "source": [
    "Ans:\n",
    "\n",
    "$$ \\hat\\beta _1 = \\bar Y -  \\hat\\beta _1 \\bar X$$\n",
    "\n",
    "\n",
    "$$ \\hat\\beta _0 = \\bar Y - \\hat\\beta _1 \\bar X$$"
   ]
  },
  {
   "attachments": {},
   "cell_type": "markdown",
   "metadata": {},
   "source": [
    "Q7. Provide a step-by-step explanation of the OLS algorithm."
   ]
  },
  {
   "attachments": {},
   "cell_type": "markdown",
   "metadata": {},
   "source": [
    "Ans: We try to estimate $\\beta _1, \\beta _0 $\n",
    "\n",
    "- Calculate the mean of features\n",
    "- Calculate the error of X and Y feature from the mean\n",
    "- Multiply the error for X feature with the error for each of the Y feature data points.\n",
    "- Square the residual of each X value from the mean and sum of these squared values. This is $\\beta _1$\n",
    "- Calculate $\\beta _0 = mean(Y) - \\beta _1 mean(X)$"
   ]
  },
  {
   "attachments": {},
   "cell_type": "markdown",
   "metadata": {},
   "source": [
    "Q8. What is the regression&#39;s standard error? To represent the same, make a graph."
   ]
  },
  {
   "attachments": {},
   "cell_type": "markdown",
   "metadata": {},
   "source": [
    "Ans:\n",
    "- The standard error of the regression also known as the standard error of the estimate, represents the average distance that the observed values fall from the regression line.\n",
    "- It means difference between the observed and truth value.\n",
    "\n",
    "\n",
    "![](../Assets/se.png)"
   ]
  },
  {
   "attachments": {},
   "cell_type": "markdown",
   "metadata": {},
   "source": [
    "Q9. Provide an example of multiple linear regression."
   ]
  },
  {
   "attachments": {},
   "cell_type": "markdown",
   "metadata": {},
   "source": [
    "Ans: Example of multiple linear regression:\n",
    "- Prediction of CO2 emission.\n",
    "- Prediction of height of a person.\n",
    "- Prediction of marks to be scored by the person."
   ]
  },
  {
   "attachments": {},
   "cell_type": "markdown",
   "metadata": {},
   "source": [
    "Q10. Describe the regression analysis assumptions and the BLUE principle."
   ]
  },
  {
   "attachments": {},
   "cell_type": "markdown",
   "metadata": {},
   "source": [
    "Ans:\n",
    "\n",
    "- Ordinary Least Square estimators $\\alpha,\\beta$ are the Best Linear Unbiased Estimators i.e `BLUE` for the real values of $\\alpha,\\beta$\n",
    "- Assumptions of Regression Analysis are:\n",
    "    - Relationship between input and target feature is linear.\n",
    "    - Absence of multicoliinearity\n",
    "    - Error terms must be normally distributed."
   ]
  },
  {
   "attachments": {},
   "cell_type": "markdown",
   "metadata": {},
   "source": [
    "Q11. Describe two major issues with regression analysis."
   ]
  },
  {
   "attachments": {},
   "cell_type": "markdown",
   "metadata": {},
   "source": [
    "Ans: Issues with regression analysis:\n",
    "- Over fitting\n",
    "- Under fitting"
   ]
  },
  {
   "attachments": {},
   "cell_type": "markdown",
   "metadata": {},
   "source": [
    "Q12. How can the linear regression model&#39;s accuracy be improved?"
   ]
  },
  {
   "attachments": {},
   "cell_type": "markdown",
   "metadata": {},
   "source": [
    "Ans: \n",
    "\n",
    "- Add more data points\n",
    "- Normally distribute the dataset\n",
    "- Remove the correlated features"
   ]
  },
  {
   "attachments": {},
   "cell_type": "markdown",
   "metadata": {},
   "source": [
    "Q13. Using an example, describe the polynomial regression model in detail."
   ]
  },
  {
   "attachments": {},
   "cell_type": "markdown",
   "metadata": {},
   "source": [
    "Ans: Polynomial Regression is a form of Linear regression known as a special case of Multiple linear regression which estimates the relationship as an nth degree polynomial."
   ]
  },
  {
   "attachments": {},
   "cell_type": "markdown",
   "metadata": {},
   "source": [
    "Q14. Provide a detailed explanation of logistic regression."
   ]
  },
  {
   "attachments": {},
   "cell_type": "markdown",
   "metadata": {},
   "source": [
    "Ans: It is probabilistic approach to solve classification problems in this we use sigmoid function to classify the data points."
   ]
  },
  {
   "attachments": {},
   "cell_type": "markdown",
   "metadata": {},
   "source": [
    "Q15. What are the logistic regression assumptions?"
   ]
  },
  {
   "attachments": {},
   "cell_type": "markdown",
   "metadata": {},
   "source": [
    "Ans:\n",
    "- Absence of multicollinearity\n",
    "- Absence of outliers\n",
    "- Ordinal values\n",
    "- Linearity of independent variables"
   ]
  },
  {
   "attachments": {},
   "cell_type": "markdown",
   "metadata": {},
   "source": [
    "Q16. Go through the details of maximum likelihood estimation."
   ]
  },
  {
   "attachments": {},
   "cell_type": "markdown",
   "metadata": {},
   "source": [
    "Ans: \n",
    "\n",
    "- A method of estimating the parameters of an assumed probability distribution, given some observed data. \n",
    "- This is achieved by maximizing a likelihood function so that, under the assumed statistical model, the observed data is most probable.\n",
    "- Probability density for single data point given by:\n",
    "\n",
    "![](../Assets/ps.webp)\n",
    "\n",
    "- Now we will calculate the same for all the data points and find the max of it."
   ]
  }
 ],
 "metadata": {
  "kernelspec": {
   "display_name": "Python 3",
   "language": "python",
   "name": "python3"
  },
  "language_info": {
   "name": "python",
   "version": "3.9.7 (default, Sep 23 2021, 09:13:41)  [GCC 10.3.0 64 bit (AMD64)]"
  },
  "orig_nbformat": 4,
  "vscode": {
   "interpreter": {
    "hash": "2a8dfe095fce2b5e88c64a2c3ee084c8e0e0d70b23e7b95b1cfb538be294c5c8"
   }
  }
 },
 "nbformat": 4,
 "nbformat_minor": 2
}
