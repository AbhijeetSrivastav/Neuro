{
 "cells": [
  {
   "cell_type": "markdown",
   "metadata": {},
   "source": [
    "Q1. What is the concept of human learning? Please give two examples."
   ]
  },
  {
   "cell_type": "markdown",
   "metadata": {},
   "source": [
    "Ans: Human learning is way of building logic based on examples and save them for later uses as memory.\n",
    "\n",
    "We learn these things in three way:\n",
    " - Learning through association \n",
    " - Learning through consequences\n",
    " - Learning through observation"
   ]
  },
  {
   "cell_type": "markdown",
   "metadata": {},
   "source": [
    "Q2. What different forms of human learning are there? Are there any machine learning equivalents?\n"
   ]
  },
  {
   "cell_type": "markdown",
   "metadata": {},
   "source": [
    "Ans: \n",
    "\n",
    "Different forms of human learning are:\n",
    " - Learning through association\n",
    " - Learning though consequences\n",
    " - Learning through observations \n",
    "\n",
    " ML equivalents of human learning are:\n",
    " - Reinforcment learning\n",
    " - Supervised learning"
   ]
  },
  {
   "cell_type": "markdown",
   "metadata": {},
   "source": [
    "Q3. What is machine learning, and how does it work? What are the key responsibilities of machine\n",
    "learning?"
   ]
  },
  {
   "cell_type": "markdown",
   "metadata": {},
   "source": [
    "Ans: Machine learning is branch of Artificial intelligence in which we try to learn underlying pattern in data to make predictions.\n",
    "\n",
    "Responsibilities of machine learning engineer are:\n",
    " - Designing ML system\n",
    " - Implementing the Algo\n",
    " - Representing the outcomes"
   ]
  },
  {
   "cell_type": "markdown",
   "metadata": {},
   "source": [
    "Q4. Define the terms &quot;penalty&quot; and &quot;reward&quot; in the context of reinforcement learning."
   ]
  },
  {
   "cell_type": "markdown",
   "metadata": {},
   "source": [
    "Ans: In reinforcement learning we have something called agent which learns by the feedback which it takes while interacting with the environnement.\n",
    "\n",
    "- Penalty:  Agent receives it when it performs bad or inaccurately.\n",
    "- Reward: Agent receives it when it performs good or accurately.\n",
    "\n",
    "Penalty and reward are just model parameters which are basically used in deep learning solutions."
   ]
  },
  {
   "cell_type": "markdown",
   "metadata": {},
   "source": [
    "Q5. Explain the term &quot;learning as a search&quot;?"
   ]
  },
  {
   "cell_type": "markdown",
   "metadata": {},
   "source": [
    "Ans: \n",
    "\n",
    "- Learning is methodology of building logic from examples.\n",
    "- Search is methodology of finding a specific object from a defined space.\n",
    "- Hypothesis is what we assume to be true while building logic.\n",
    "\n",
    "We can say that learning is a kind of search which tries to find a hypothesis which turns True in space of several hypothesis's."
   ]
  },
  {
   "cell_type": "markdown",
   "metadata": {},
   "source": [
    "Q6. What are the various goals of machine learning? What is the relationship between these and\n",
    "human learning?"
   ]
  },
  {
   "cell_type": "markdown",
   "metadata": {},
   "source": [
    "Ans: \n",
    "\n",
    "Goals of ML are:\n",
    "- Develop an generalized algo to solve as specified problem.\n",
    "- Learn about different learning methodology.\n",
    "- Develop self learning automated system which adapt according to environment."
   ]
  },
  {
   "cell_type": "markdown",
   "metadata": {},
   "source": [
    "Q7. Illustrate the various elements of machine learning using a real-life illustration."
   ]
  },
  {
   "cell_type": "markdown",
   "metadata": {},
   "source": [
    "Ans:\n",
    "\n",
    "- Data\n",
    "- Task\n",
    "- Model\n",
    "- Evaluation\n",
    "- Reward and Punishment system\n",
    "- Learning"
   ]
  },
  {
   "cell_type": "markdown",
   "metadata": {},
   "source": [
    "Q8. Provide an example of the abstraction method."
   ]
  },
  {
   "cell_type": "markdown",
   "metadata": {},
   "source": [
    "Ans: In Machine Learning, Abstraction is supported primarily at the level of modules. This can be justified in two ways: first, Data abstraction is mostly a question of program interfaces and therefore it arises naturally at the point where we have to consider program composition and modules. Abstraction is defined as dealing with ideas instead of events. In the context of AI, that means worrying more about what the right algorithm is and less about how to implement it. Another way of looking at it, for those technically inclined, is as an API call (abstracted) vs. a self implemented function or series of functions."
   ]
  },
  {
   "cell_type": "markdown",
   "metadata": {},
   "source": [
    "Q9. What is the concept of generalization? What function does it play in the machine learning\n",
    "process?"
   ]
  },
  {
   "cell_type": "markdown",
   "metadata": {},
   "source": [
    "Ans: Generalization refers to models capability to learn the underlying pattern under a dataset and apply that knowledge to other relevant dataset and make predictions.\n",
    "\n",
    "It gives models flexibility to tune model parameter to come up with optimal solution which is applicable in various applications."
   ]
  },
  {
   "cell_type": "markdown",
   "metadata": {},
   "source": [
    "Q10. What is classification, exactly? What are the main distinctions between classification and regression?"
   ]
  },
  {
   "cell_type": "markdown",
   "metadata": {},
   "source": [
    "Ans: \n",
    "\n",
    "- Classification: It is machine learning technique to predict the discrete group label in dataset.\n",
    "\n",
    "- Regression: It is machine learning technique to predict the continuos data. \n",
    "\n",
    "Distinctions in both are:\n",
    "- A classification problem requires that examples be classified into one of two or more classes.\n",
    "- A classification can have real-valued or discrete input variables.\n",
    "- A problem with two classes is often called a two-class or binary classification problem.\n",
    "- A problem with more than two classes is often called a multi-class classification problem.\n",
    "- A problem where an example is assigned multiple classes is called a multi-label classification problem."
   ]
  },
  {
   "cell_type": "markdown",
   "metadata": {},
   "source": [
    "Q11. What is regression, and how does it work? Give an example of a real-world problem that was\n",
    "solved using regression."
   ]
  },
  {
   "cell_type": "markdown",
   "metadata": {},
   "source": [
    "Ans: It is machine learning technique to predict the continuos data. \n",
    "\n",
    "Example - Prediction of profit in stock market based on twitter sentiment."
   ]
  },
  {
   "cell_type": "markdown",
   "metadata": {},
   "source": [
    "Q12. Describe the clustering mechanism in detail.\n"
   ]
  },
  {
   "cell_type": "markdown",
   "metadata": {},
   "source": [
    "Ans: Clustering is machine learning technique of separating the data ito different groups or clusters.\n",
    "\n",
    "\n",
    "- While doing cluster analysis, we first partition the set of data into groups based on data similarity and then assign the labels to the groups.\n",
    "\n",
    "- The main advantage of clustering over classification is that, it is adaptable to changes and helps single out useful features that distinguish different groups.\n",
    "\n",
    "\n",
    "Clustering methods can be classified into the following categories\n",
    "- Partitioning Method\n",
    "- Hierarchical Method\n",
    "- Density-based Method\n",
    "- Grid-Based Method\n",
    "- Model-Based Method Constraint-based Method"
   ]
  },
  {
   "cell_type": "markdown",
   "metadata": {},
   "source": [
    "Q13. Make brief observations on two of the following topics:\n",
    "\n",
    "i. Machine learning algorithms are used\n",
    "ii. Studying under supervision\n",
    "iii. Studying without supervision\n",
    "\n",
    "iv. Reinforcement learning is a form of learning based on positive reinforcement."
   ]
  },
  {
   "cell_type": "markdown",
   "metadata": {},
   "source": [
    "Ans: \n",
    "\n",
    "- Machine learning algorithms are used: At its Most basic, Machine Learning uses programmed algorithms that receive and analyses input data to predict output values within an acceptable range. As new data is fed to these algorithms, they learn and optimize their operations to improve performance, developing intelligence over time.\n",
    "\n",
    "- Studying Under Supervision: In machine learning, there are two important categories- Supervised and Unsupervised learning.Supervised learning, an algorithm learns from a training dataset. We know the correct answers or desired output, the algorithm makes predictions using the given dataset and is corrected by the “supervisor”."
   ]
  }
 ],
 "metadata": {
  "kernelspec": {
   "display_name": "Python 3.9.12 ('base')",
   "language": "python",
   "name": "python3"
  },
  "language_info": {
   "name": "python",
   "version": "3.9.12"
  },
  "orig_nbformat": 4,
  "vscode": {
   "interpreter": {
    "hash": "198dc38c81252feb4faa0d475279f5f6c993dd4570bd3709069413259282040c"
   }
  }
 },
 "nbformat": 4,
 "nbformat_minor": 2
}
