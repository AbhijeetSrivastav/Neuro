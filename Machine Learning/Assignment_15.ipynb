{
 "cells": [
  {
   "cell_type": "markdown",
   "metadata": {},
   "source": [
    "Q1. Recognize the differences between supervised, semi-supervised, and unsupervised learning."
   ]
  },
  {
   "cell_type": "markdown",
   "metadata": {},
   "source": [
    "Ans:\n",
    "\n",
    "**Supervised Learning**\n",
    "- In this type of learning we know the truth value for set of input feature instance which is called label or target column or output feature.\n",
    "- We try to find out relationship between the input features and output feature and based on this relationship which is basically a mathematical formulation we try to predict or classify the value of the output feature.\n",
    "\n",
    "**Unsupervised Learning**\n",
    "- In this type of learning we don't have any defined target or output feature.\n",
    "- We try yo group the data based on their similarity by creating the mapping function or relationship equation.\n",
    "\n",
    "**Semi Supervised Learning**\n",
    "- In this type of learning we have a dataset of which some output features are labeled and others are not.\n",
    "- In this case we train the model based on labeled data and then based on this learning try to label the unlabeled data points."
   ]
  },
  {
   "cell_type": "markdown",
   "metadata": {},
   "source": [
    "Q2. Describe in detail any five examples of classification problems."
   ]
  },
  {
   "cell_type": "markdown",
   "metadata": {},
   "source": [
    "Ans: Examples of classification problems:\n",
    "\n",
    "1. Classifying weather it would be rainy or sunny day based on data instance with different environmental factor values.\n",
    "2. Classifying whether a person has diabetes or not.\n",
    "3. We can classify whether a machine will fail or not based on sensor readings.\n",
    "4. We can do breast cancer classification.\n",
    "5. Classifying whether we will make profit or loss based on stock data."
   ]
  },
  {
   "cell_type": "markdown",
   "metadata": {},
   "source": [
    "Q3. Describe each phase of the classification process in detail."
   ]
  },
  {
   "cell_type": "markdown",
   "metadata": {},
   "source": [
    "Ans: \n",
    "\n",
    "- Each algorithm takes different approaches to classify the data. \n",
    "- Their are various methodology to do so:\n",
    "    - Probabilistic approach\n",
    "        - Ex - Naive Bayes Classifier.\n",
    "    - Distance Based approach\n",
    "        - Ex - KNN, DBSCAN\n",
    "    - Decision approach\n",
    "        - Ex- Decision tree, random forest"
   ]
  },
  {
   "cell_type": "markdown",
   "metadata": {},
   "source": [
    "Q4. Go through the SVM model in depth using various scenarios."
   ]
  },
  {
   "cell_type": "markdown",
   "metadata": {},
   "source": [
    "Ans: In SVM we have two scenarios:\n",
    "1. **Support Vector Classifier(SVC)**\n",
    "    - In this we try to fit hyperplane to segregate data points into different classes.\n",
    "    - To draw this hyperplane we take assistance of support vectors and marginal planes.\n",
    "    - In case we are unable to segregate data points appropriately which happens when we have large number of features we use to transform these datasets into n dimensions using a mapping function called Kernel.\n",
    "2. **Support Vector Regressor(SVR)**\n",
    "    - In this we try to fit hyperplane to the data points in order to reduce the loss and this is used to make regression based predictions."
   ]
  },
  {
   "cell_type": "markdown",
   "metadata": {},
   "source": [
    "Q5. What are some of the benefits and drawbacks of SVM?"
   ]
  },
  {
   "cell_type": "markdown",
   "metadata": {},
   "source": [
    "Ans: \n",
    "\n",
    "1. Advantages:\n",
    "    - Effective with high dimensional dataset.\n",
    "    - Effective if no. of sample > no. of dimensions.\n",
    "    - Versatile as different kernels can be used.\n",
    "2. Disadvantages:\n",
    "    - If dimensions too hight then over fitting may occur, but we can overcome this by choosing appropriate kernel.\n",
    "    - Don't provide probability estimate directly."
   ]
  },
  {
   "cell_type": "markdown",
   "metadata": {},
   "source": [
    "Q6. Go over the kNN model in depth."
   ]
  },
  {
   "cell_type": "markdown",
   "metadata": {},
   "source": [
    "Ans: In KNN following steps are included:\n",
    "1. Initialize `K`\n",
    "2. Calculate distance between all the data points from training set to the query data point and store it in a array.\n",
    "3. Sort the distance array.\n",
    "4. Select the shortest `K` distances or `K` distances from the top of the distance array.\n",
    "5. If regression problem then take the average of the label of these `k` distances.\n",
    "6. If classification problem then take the mode of the label of these `K` distances."
   ]
  },
  {
   "cell_type": "markdown",
   "metadata": {},
   "source": [
    "Q7. Discuss the kNN algorithm&#39;s error rate and validation error."
   ]
  },
  {
   "cell_type": "markdown",
   "metadata": {},
   "source": [
    "Ans:\n",
    "- The KNN error rate on the 1,000 test observations is just under 12%.\n",
    "- Their is no validation step for KNN as it is distance base approach and we are not training anything."
   ]
  },
  {
   "cell_type": "markdown",
   "metadata": {},
   "source": [
    "Q8. For kNN, talk about how to measure the difference between the test and training results."
   ]
  },
  {
   "cell_type": "markdown",
   "metadata": {},
   "source": [
    "Ans: We have two ways do so:\n",
    "- F1 score\n",
    "- Accuracy"
   ]
  },
  {
   "cell_type": "markdown",
   "metadata": {},
   "source": [
    "Q9. Create the kNN algorithm."
   ]
  },
  {
   "cell_type": "markdown",
   "metadata": {},
   "source": [
    "Ans: In KNN following steps are included:\n",
    "1. Initialize `K`\n",
    "2. Calculate distance between all the data points from training set to the query data point and store it in a array.\n",
    "3. Sort the distance array.\n",
    "4. Select the shortest `K` distances or `K` distances from the top of the distance array.\n",
    "5. If regression problem then take the average of the label of these `k` distances.\n",
    "6. If classification problem then take the mode of the label of these `K` distances."
   ]
  },
  {
   "cell_type": "markdown",
   "metadata": {},
   "source": [
    "Q10. What is a decision tree, exactly? What are the various kinds of nodes? Explain all in depth."
   ]
  },
  {
   "cell_type": "markdown",
   "metadata": {},
   "source": [
    "Ans: \n",
    "- Supervised algorithm with goal to predict or classify the data instance by learning simple decision rules inferred from data features.\n",
    "- A node or decision node is the point where data split and it contains the feature and split criteria.\n",
    "- Leaf node is the last node which contains the decision reached after `n` splits."
   ]
  },
  {
   "cell_type": "markdown",
   "metadata": {},
   "source": [
    "Q11. Describe the different ways to scan a decision tree."
   ]
  },
  {
   "cell_type": "markdown",
   "metadata": {},
   "source": [
    "Ans: Various ways to scan and create decision tree are:\n",
    "- CART\n",
    "- ID3\n",
    "- C4.5"
   ]
  },
  {
   "cell_type": "markdown",
   "metadata": {},
   "source": [
    "Q12. Describe in depth the decision tree algorithm."
   ]
  },
  {
   "cell_type": "markdown",
   "metadata": {},
   "source": [
    "Ans: It is longest path from root to leaf node. In case of machine learning we can say till how many steps you want to make decision and split the tree. Basically it decides the complexity of decision tree."
   ]
  },
  {
   "cell_type": "markdown",
   "metadata": {},
   "source": [
    "Q13. In a decision tree, what is inductive bias? What would you do to stop overfitting?"
   ]
  },
  {
   "cell_type": "markdown",
   "metadata": {},
   "source": [
    "Ans: Inductive bias is set of assumptions made by an algorithm. In case of decision tree they are:\n",
    "- Depth of tree"
   ]
  },
  {
   "cell_type": "markdown",
   "metadata": {},
   "source": [
    "Q14.Explain advantages and disadvantages of using a decision tree?"
   ]
  },
  {
   "cell_type": "markdown",
   "metadata": {},
   "source": [
    "Ans: \n",
    "1. Advantages:\n",
    "    - Easy to interpret.\n",
    "    - Cost of using is low: l0g2(n)\n",
    "    - Perform well even assumptions are some what violated.\n",
    "    - Use white box model.\n",
    "2. Disadvantages:\n",
    "    - Unstable as small variation in dataset lead to complete change in tree.\n",
    "    - Predictions are neither continuos nor smooth instead its piecewise approximation.\n",
    "    - Over fitting occurs due to over complex model."
   ]
  },
  {
   "cell_type": "markdown",
   "metadata": {},
   "source": [
    "Q15. Describe in depth the problems that are suitable for decision tree learning."
   ]
  },
  {
   "cell_type": "markdown",
   "metadata": {},
   "source": [
    "Ans: Problems which have following attributes are suitable to be solved using decision tree:\n",
    "- Target has discrete output.\n",
    "- Instances represented by attribute value pairs.\n",
    "- Disjunctive descriptions required."
   ]
  },
  {
   "cell_type": "markdown",
   "metadata": {},
   "source": [
    "Q16. Describe in depth the random forest model. What distinguishes a random forest?"
   ]
  },
  {
   "cell_type": "markdown",
   "metadata": {},
   "source": [
    "Ans: Random Forest is a ensemble machine learning model, to be specific bagging method that contains a number of decision trees on various subsets of the given dataset and takes the average to improve the predictive accuracy of that dataset."
   ]
  },
  {
   "cell_type": "markdown",
   "metadata": {},
   "source": [
    "Q17. In a random forest, talk about OOB error and variable value."
   ]
  },
  {
   "cell_type": "markdown",
   "metadata": {},
   "source": [
    "Ans: The out-of-bag (OOB) error is the average error for each calculated using predictions from the trees that do not contain in their respective bootstrap sample. This allows the RandomForestClassifier to be fit and validated whilst being trained."
   ]
  }
 ],
 "metadata": {
  "kernelspec": {
   "display_name": "Python 3.9.7 64-bit",
   "language": "python",
   "name": "python3"
  },
  "language_info": {
   "name": "python",
   "version": "3.9.7"
  },
  "orig_nbformat": 4,
  "vscode": {
   "interpreter": {
    "hash": "2a8dfe095fce2b5e88c64a2c3ee084c8e0e0d70b23e7b95b1cfb538be294c5c8"
   }
  }
 },
 "nbformat": 4,
 "nbformat_minor": 2
}
