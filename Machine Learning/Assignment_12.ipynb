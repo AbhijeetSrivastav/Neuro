{
 "cells": [
  {
   "cell_type": "markdown",
   "metadata": {},
   "source": [
    "Q1. What is prior probability? Give an example."
   ]
  },
  {
   "cell_type": "markdown",
   "metadata": {},
   "source": [
    "Ans: \n",
    "\n",
    "- A prior probability distribution, often simply called the prior, of an uncertain quantity is the probability distribution that would express one's beliefs about this quantity before some evidence is taken into account.\n",
    "- In simple way it is conditional probability.\n",
    "- Ex- the prior could be the probability distribution representing the relative proportions of voters who will vote for a particular politician in a future election. "
   ]
  },
  {
   "cell_type": "markdown",
   "metadata": {},
   "source": [
    "Q2. What is posterior probability? Give an example."
   ]
  },
  {
   "cell_type": "markdown",
   "metadata": {},
   "source": [
    "Ans: \n",
    "\n",
    "- It is the revised probability of an event occurring after taking into consideration new information.\n",
    "\n",
    "- Calculated after prior probability is calculated.\n"
   ]
  },
  {
   "cell_type": "markdown",
   "metadata": {},
   "source": [
    "Q3. What is likelihood probability? Give an example."
   ]
  },
  {
   "cell_type": "markdown",
   "metadata": {},
   "source": [
    "Ans: \n",
    "\n",
    "- Chances of happening of an event is called probability.\n",
    "\n",
    "- The process of determining the best data distribution given a specific situation in th data.\n",
    "\n",
    "- In terms of data science given the probability of getting an observed value given the parameter value is likelihood.\n",
    "- Ex - finding chances of getting head in a coin is what probability will tell which is 0.5 but likelihood will try to find whether the probability for the specific event has been specified correctly or not."
   ]
  },
  {
   "cell_type": "markdown",
   "metadata": {},
   "source": [
    "Q4. What is Naïve Bayes classifier? Why is it named so?"
   ]
  },
  {
   "cell_type": "markdown",
   "metadata": {},
   "source": [
    "Ans:\n",
    "\n",
    "- Classification algorithm based on bayes theorem thats why the name.\n",
    "- Assumption of algorithm is that each feature makes an independent and equal contribution to the outcome of the model.\n",
    "- Bayes theorem finds th probability of an event occurring given the  probability of another event that has already occurred."
   ]
  },
  {
   "cell_type": "markdown",
   "metadata": {},
   "source": [
    "Q5. What is optimal Bayes classifier?"
   ]
  },
  {
   "cell_type": "markdown",
   "metadata": {},
   "source": [
    "Ans: \n",
    "\n",
    "- Probabilistic model.\n",
    "- Finds the most probable prediction using the training data ans space of hypotheses to make a prediction for a new data point."
   ]
  },
  {
   "cell_type": "markdown",
   "metadata": {},
   "source": [
    "Q6. Write any two features of Bayesian learning methods."
   ]
  },
  {
   "cell_type": "markdown",
   "metadata": {},
   "source": [
    "Ans: \n",
    "\n",
    "- New data instance can be classified by combining the prediction of multiple hypothesis.\n",
    "- Prior knowledge can be combined with observed data to determine the probability of a hypothesis."
   ]
  },
  {
   "cell_type": "markdown",
   "metadata": {},
   "source": [
    "Q7. Define the concept of consistent learners.\n"
   ]
  },
  {
   "cell_type": "markdown",
   "metadata": {},
   "source": [
    "Ans: A learner (having hypothesis `h` and training data `d`)is consistent if it always outputs a hypothesis with zero error on `d` whenever `h` contains such hypothesis."
   ]
  },
  {
   "cell_type": "markdown",
   "metadata": {},
   "source": [
    "Q8. Write any two strengths of Bayes classifier."
   ]
  },
  {
   "cell_type": "markdown",
   "metadata": {},
   "source": [
    "Ans:\n",
    "\n",
    "- Less training data required.\n",
    "- Works fine on continuous and discrete data.\n",
    "- Good for real time predictions.\n",
    "- Highly scalable"
   ]
  },
  {
   "cell_type": "markdown",
   "metadata": {},
   "source": [
    "Q9. Write any two weaknesses of Bayes classifier."
   ]
  },
  {
   "cell_type": "markdown",
   "metadata": {},
   "source": [
    "Ans: \n",
    "\n",
    "- Assumes that all features are independent and contribute to the target feature output.\n",
    "- If real time data come up with a new class bayes classifier will assign it value zero and wont be able to make predictions about this class."
   ]
  },
  {
   "cell_type": "markdown",
   "metadata": {},
   "source": [
    "Q10. Explain how Naïve Bayes classifier is used for\n",
    "\n",
    "1. Text classification\n",
    "\n",
    "2. Spam filtering\n",
    "\n",
    "3. Market sentiment analysis"
   ]
  },
  {
   "cell_type": "markdown",
   "metadata": {},
   "source": [
    "Ans:\n",
    "\n",
    "**Text Classification:** \n",
    "- Naive use to classify text into various categories based on specified criteria.\n",
    "- For that first we tokenize the text.\n",
    "- Then pass it to naive classifier to classify.\n",
    "- Classification can be either as positive or negative maybe happy, sad or angry, etc.\n",
    "**Spam Filtering:**\n",
    "- Tokenize the email and pass it to naive classifier.\n",
    "- Naive classifies the tokenized words of email as spam or non spam.\n",
    "**Market Sentiment Analysis:**\n",
    "- Deals with extracting emotions and feeling form text.\n",
    "- Naive is mostly used to classify whether a sentence is positive or negative feeling.\n"
   ]
  }
 ],
 "metadata": {
  "kernelspec": {
   "display_name": "Python 3.9.7 64-bit",
   "language": "python",
   "name": "python3"
  },
  "language_info": {
   "name": "python",
   "version": "3.9.7"
  },
  "orig_nbformat": 4,
  "vscode": {
   "interpreter": {
    "hash": "2a8dfe095fce2b5e88c64a2c3ee084c8e0e0d70b23e7b95b1cfb538be294c5c8"
   }
  }
 },
 "nbformat": 4,
 "nbformat_minor": 2
}
