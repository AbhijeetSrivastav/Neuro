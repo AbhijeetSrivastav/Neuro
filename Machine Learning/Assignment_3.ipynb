{
 "cells": [
  {
   "cell_type": "markdown",
   "metadata": {},
   "source": [
    "Q1.Explain the term machine learning, and how does it work? Explain two machine learning\n",
    "applications in the business world. What are some of the ethical concerns that machine learning\n",
    "applications could raise?"
   ]
  },
  {
   "cell_type": "markdown",
   "metadata": {},
   "source": [
    "Ans: \n",
    "\n",
    "* Machine learning is sub category of the Artificial Intelligence which deals with designing and implementing algorithms to discover some patterns in data sets. \n",
    "\n",
    "* This data can be in form of text, image or audio.\n",
    "\n",
    "* Pattern is recognized within dataset using statistics.\n",
    "\n",
    "\n",
    "\n",
    "Major applications of ML:\n",
    "- Application 1: Chatbot\n",
    "- Application 2: Customer segmentation \n",
    "\n",
    "- One of the major concern of the ML solutions is privacy. As these algorithms are as good as the data is so it demands more data to provide better result and this may not be as welcoming by an individual."
   ]
  },
  {
   "cell_type": "markdown",
   "metadata": {},
   "source": [
    "Q2. Describe the process of human learning:\n",
    "\n",
    "i. Under the supervision of experts\n",
    "\n",
    "ii. With the assistance of experts in an indirect manner\n",
    "\n",
    "iii. Self-education"
   ]
  },
  {
   "cell_type": "markdown",
   "metadata": {},
   "source": [
    "Ans:\n",
    "\n",
    "Human learning under supervision of expert\n",
    "- Supervisor gives every information to human about the task, like what to do, how to do, when to do etc.\n",
    "- Human then follows these instructions and perform the task.\n",
    "- Efficiency of the task is calculated by the supervisor himself.\n",
    "\n",
    "\n",
    "Human learning with assistance in an indirect manner\n",
    "- In this type of learning human is just told by the assistor what he needs to do.\n",
    "- How to do it figured out by the human itself.\n",
    "- The performance of the human is measure by the assistor.\n",
    "\n",
    "Human learning by self-education\n",
    "- This learning works like reward and punishment system.\n",
    "- Human explores what he need to do and overtime acquire knowledge about his task or end goal. \n",
    "- This acquired knowledge is used to improve.\n",
    "- When human does the job in right way he is awarded else he is punished, this act as feedback."
   ]
  },
  {
   "cell_type": "markdown",
   "metadata": {},
   "source": [
    "Q3. Provide a few examples of various types of machine learning."
   ]
  },
  {
   "cell_type": "markdown",
   "metadata": {},
   "source": [
    "Ans:\n",
    "\n",
    "Supervised Machine Learning:\n",
    "- All the classification problems\n",
    "- All the regression problems\n",
    "\n",
    "Unsupervised Machine learning\n",
    "- All the clustering problems\n",
    "- Spam classification\n",
    "- Fraud detection\n",
    "\n",
    "Reinforcement Machine Learning\n",
    "- Self-driving car\n",
    "- Terrain mapping"
   ]
  },
  {
   "cell_type": "markdown",
   "metadata": {},
   "source": [
    "Q4. Examine the various forms of machine learning."
   ]
  },
  {
   "cell_type": "markdown",
   "metadata": {},
   "source": [
    "Ans:\n",
    "\n",
    "1. Supervised machine learning\n",
    "2. Unsupervised machine learning\n",
    "3. Reinforcement machine learning"
   ]
  },
  {
   "cell_type": "markdown",
   "metadata": {},
   "source": [
    "Q5. Can you explain what a well-posed learning problem is? Explain the main characteristics that must\n",
    "be present to identify a learning problem properly."
   ]
  },
  {
   "cell_type": "markdown",
   "metadata": {},
   "source": [
    "Ans: A computer program is said to learn from a experience 'E' in context to some task 'T' and some measure 'P', if it performs the task as was measured, it upgrades teh experience.\n",
    "\n",
    "An problem which fits this classic definition is said to well-possed learning problem."
   ]
  },
  {
   "cell_type": "markdown",
   "metadata": {},
   "source": [
    "Q6. Is machine learning capable of solving all problems? Give a detailed explanation of your answer."
   ]
  },
  {
   "cell_type": "markdown",
   "metadata": {},
   "source": [
    "Ans: Probably we can use Machine learning algorithms to solve varieties of problems but their are few concerns regarding the same.\n",
    "\n",
    "- Lack of data: ML algorithms are data driven and usually good amount of quality data is not available for all the problems.\n",
    "\n",
    "- Deterministic problems or well-posed problems: ML can only solve problems which are well posed learning problems and stochastic in nature not deterministic."
   ]
  },
  {
   "cell_type": "markdown",
   "metadata": {},
   "source": [
    "Q7. What are the various methods and technologies for solving machine learning problems? Any two\n",
    "of them should be defined in detail"
   ]
  },
  {
   "cell_type": "markdown",
   "metadata": {},
   "source": [
    "Ans: Technologies used in ML are:\n",
    "\n",
    "- Scikit Learn: Simple and efficient tools for predictive data analysis which is accessible to everybody, and reusable in various contexts. It is built on NumPy, SciPy, and matplotlib.\n",
    "\n",
    "- Tensorflow: is a open source artificial intelligence library, Using data flow graphs to build models. It allows developers to create large-scale neural networks with many layers. TensorFlow is mainly used for: Classification, Perception, Understanding, Discovering, Prediction and Creation."
   ]
  },
  {
   "cell_type": "markdown",
   "metadata": {},
   "source": [
    "Q8. Can you explain the various forms of supervised learning? Explain each one with an example\n",
    "application.\n"
   ]
  },
  {
   "cell_type": "markdown",
   "metadata": {},
   "source": [
    "Ans: Various forms of supervised learning are:\n",
    "\n",
    "- Regression:They help to predict or explain a particular numerical value based on a set of prior data, for example predicting the price of a property based on previous pricing data for similar properties.\n",
    "\n",
    "- Classification:They help to predict or explain a particular numerical value based on a set of prior data, for example predicting the price of a property based on previous pricing data for similar properties."
   ]
  },
  {
   "cell_type": "markdown",
   "metadata": {},
   "source": [
    "Q9. What is the difference between supervised and unsupervised learning? With a sample application\n",
    "in each region, explain the differences."
   ]
  },
  {
   "cell_type": "markdown",
   "metadata": {},
   "source": [
    "Ans: Supervised learning uses labeled data while unsupervised uses unlabeled data."
   ]
  },
  {
   "cell_type": "markdown",
   "metadata": {},
   "source": [
    "Q10. Describe the machine learning process in depth.\n",
    "\n",
    "a. Make brief notes on any two of the following:\n",
    "\n",
    "i. MATLAB is one of the most widely used programming languages.\n",
    "\n",
    "ii. Deep learning applications in healthcare\n",
    "\n",
    "iii. Study of the market basket\n",
    "\n",
    "iv. Linear regression (simple)"
   ]
  },
  {
   "cell_type": "markdown",
   "metadata": {},
   "source": [
    "Ans: \n",
    "\n",
    "- Aim: To recognize and build mathematical relation between input and output feature.\n",
    "\n",
    "- Goal: To predict the output feature based on input features using the mathematical model build using machine learning model.\n",
    "\n",
    "- Performance measures: Different performance measure can be used to measure the efficiency of the machine learning model such as:\n",
    "    - Confusion Matrix\n",
    "    - Precision\n",
    "    - Accuracy\n",
    "    - Recall\n",
    "    - Many more\n",
    "\n",
    "*Deep learning applications in healthcare:*\n",
    "\n",
    "Deep learning provides the healthcare industry with the ability to analyze data at exceptional speeds without compromising on accuracy. It’s not machine learning, nor is it AI, it’s an elegant blend of both that uses a layered algorithmic architecture to sift through data at an astonishing rate. The benefits of deep learning in healthcare are plentiful – fast, efficient, accurate – but they don’t stop there. Even more benefits lie within the neural networks formed by multiple layers of AI and ML and their ability to learn. Yes, the secret to deep learning’s success is in the name – learning."
   ]
  },
  {
   "cell_type": "markdown",
   "metadata": {},
   "source": [
    "Q11. Make a comparison between:-\n",
    "\n",
    "1. Generalization and abstraction\n",
    "\n",
    "2. Learning that is guided and unsupervised\n",
    "\n",
    "3. Regression and classification"
   ]
  },
  {
   "cell_type": "markdown",
   "metadata": {},
   "source": [
    "Ans: \n",
    "\n",
    "- Generalization and abstraction: Abstraction is the process of removing details of objects. And Generalization, then, is the formulation of general concepts from specific instances by abstracting common properties. A concrete object can be looked at as a “subset” of a more generalized object.\n",
    "\n",
    "- Learning that is guided and Unsupervised: Supervised learning is the method that trains machines to use data that is well classified and labeled. Whereas Unsupervised learning, on the other hand, is the method that trains machines to use data that is neither classified nor labeled.\n",
    "\n",
    "\n",
    "- Regression and classification:\n",
    "  - Classification Models – Classification models are used for problems where the output variable can be categorized, such as Yes or No, or Pass or Fail. Classification Models are used to predict the category of the data. Real-life examples include spam detection, sentiment analysis, scorecard prediction of exams, etc.\n",
    "  - Regression Models – Regression models are used for problems where the output variable is a real value such as a unique number, dollars, salary, weight or pressure, for example. It is most often used to predict numerical values based on previous data observations. Some of the more familiar regression algorithms include linear regression, logistic regression, polynomial regression, and ridge regression."
   ]
  }
 ],
 "metadata": {
  "kernelspec": {
   "display_name": "Python 3.9.12 ('base')",
   "language": "python",
   "name": "python3"
  },
  "language_info": {
   "name": "python",
   "version": "3.9.12"
  },
  "orig_nbformat": 4,
  "vscode": {
   "interpreter": {
    "hash": "198dc38c81252feb4faa0d475279f5f6c993dd4570bd3709069413259282040c"
   }
  }
 },
 "nbformat": 4,
 "nbformat_minor": 2
}
