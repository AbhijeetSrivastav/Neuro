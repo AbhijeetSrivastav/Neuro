{
 "cells": [
  {
   "attachments": {},
   "cell_type": "markdown",
   "metadata": {},
   "source": [
    "Q1. In a linear equation, what is the difference between a dependent variable and an independent\n",
    "variable?"
   ]
  },
  {
   "attachments": {},
   "cell_type": "markdown",
   "metadata": {},
   "source": [
    "Ans: \n",
    "\n",
    "- Independent variables represent input features and their values are not dependent or affected by any other variable. On the other hand dependent variables value are affected by the change in the value of the independent variables and are used to represent target feature.\n",
    "- In terms of function: A function `f(x)` maps the value of independent variables in term of `x` to a dependent variable which is represented by `y`.\n",
    "\n",
    "```\n",
    " f(x) = y = x1 + x2 + x3 + ... + xn\n",
    "```\n"
   ]
  },
  {
   "attachments": {},
   "cell_type": "markdown",
   "metadata": {},
   "source": [
    "Q2. What is the concept of simple linear regression? Give a specific example."
   ]
  },
  {
   "attachments": {},
   "cell_type": "markdown",
   "metadata": {},
   "source": [
    "Ans: \n",
    "- Simple linear regression tries to find a best fit line which tries to fit all the data points with minimum loss for each of the data points or minimum cost function overall.\n",
    "- In general we try to find the relation between independent features and dependent feature.\n",
    "- Actually we try to find out the weights associated with each of the independent feature in linear regression equation which basically represent with what rate of change of value of a independent feature the value of dependent variable changes."
   ]
  },
  {
   "attachments": {},
   "cell_type": "markdown",
   "metadata": {},
   "source": [
    "Q3. In a linear regression, define the slope."
   ]
  },
  {
   "attachments": {},
   "cell_type": "markdown",
   "metadata": {},
   "source": [
    "Ans: \n",
    "- Slope is is the inclination of line. \n",
    "- It can be calculated for any line between two points say P1(x1, y1) andd P2(x2, y2) as:\n",
    "\n",
    "```\n",
    "slope = (y2 - y1) / (x2 - x1)\n",
    "```"
   ]
  },
  {
   "attachments": {},
   "cell_type": "markdown",
   "metadata": {},
   "source": [
    "Q4. Determine the graph&#39;s slope, where the lower point on the line is represented as (3, 2) and the\n",
    "higher point is represented as (2, 2)."
   ]
  },
  {
   "attachments": {},
   "cell_type": "markdown",
   "metadata": {},
   "source": [
    "Ans: \n",
    "\n",
    "\n",
    "```\n",
    "slope = (y2 - y1) / (x2 - x1)\n",
    "```\n",
    "\n",
    "```\n",
    "slope = (2 - 2) / (2 - 3) = 0 / -1 = 0 \n",
    "```  "
   ]
  },
  {
   "attachments": {},
   "cell_type": "markdown",
   "metadata": {},
   "source": [
    "Q5. In linear regression, what are the conditions for a positive slope?"
   ]
  },
  {
   "attachments": {},
   "cell_type": "markdown",
   "metadata": {},
   "source": [
    "Ans: When `x` is directly proportional to `y` "
   ]
  },
  {
   "attachments": {},
   "cell_type": "markdown",
   "metadata": {},
   "source": [
    "Q6. In linear regression, what are the conditions for a negative slope?"
   ]
  },
  {
   "attachments": {},
   "cell_type": "markdown",
   "metadata": {},
   "source": [
    "Ans: When `x` is indirectly proportional to `y` "
   ]
  },
  {
   "attachments": {},
   "cell_type": "markdown",
   "metadata": {},
   "source": [
    "Q7. What is multiple linear regression and how does it work?"
   ]
  },
  {
   "attachments": {},
   "cell_type": "markdown",
   "metadata": {},
   "source": [
    "Ans: Multiple linear regression is special case of simple linear regression where we have multiple input features."
   ]
  },
  {
   "attachments": {},
   "cell_type": "markdown",
   "metadata": {},
   "source": [
    "Q8. In multiple linear regression, define the number of squares due to regression."
   ]
  },
  {
   "attachments": {},
   "cell_type": "markdown",
   "metadata": {},
   "source": [
    "Ans: Sum of squares is used to check the quality of model.\n",
    "\n",
    "\n",
    "$$ SS = \\sum_{n=1}^{n} (predicted - actual)^2 \n"
   ]
  },
  {
   "attachments": {},
   "cell_type": "markdown",
   "metadata": {},
   "source": [
    "Q9. In a regression equation, what is multicollinearity?"
   ]
  },
  {
   "attachments": {},
   "cell_type": "markdown",
   "metadata": {},
   "source": [
    "Ans: Correlation is phenomena when multiple independent variables are highly related to each other and has similar effect on the target variable, so to avoid over head we just drop these features as they don't have any effect on our model.\n",
    "\n",
    "Multicollinearity is just plural of collinearity which is basically used to represent correlation in better way."
   ]
  },
  {
   "attachments": {},
   "cell_type": "markdown",
   "metadata": {},
   "source": [
    "Q10. What is heteroskedasticity, and what does it mean?"
   ]
  },
  {
   "attachments": {},
   "cell_type": "markdown",
   "metadata": {},
   "source": [
    "Ans: Hetroskedasticity is condition when model has high variance."
   ]
  },
  {
   "attachments": {},
   "cell_type": "markdown",
   "metadata": {},
   "source": [
    "Q11. Describe the concept of ridge regression."
   ]
  },
  {
   "attachments": {},
   "cell_type": "markdown",
   "metadata": {},
   "source": [
    "Ans: It is regression regularization technique and used when the condition of multicolinearity is present and it is same as multiple linear regression just the cost function changes a bit which allows weights of feature to be 0 that means when weight becomes 0 feature get deleted and correlation issue is solved automatically while doing the gradient descent."
   ]
  },
  {
   "attachments": {},
   "cell_type": "markdown",
   "metadata": {},
   "source": [
    "Q12. Describe the concept of lasso regression."
   ]
  },
  {
   "attachments": {},
   "cell_type": "markdown",
   "metadata": {},
   "source": [
    "Ans: It is L1 regularization and cost function changes to the absolute thats it."
   ]
  },
  {
   "attachments": {},
   "cell_type": "markdown",
   "metadata": {},
   "source": [
    "Q13. What is polynomial regression and how does it work?"
   ]
  },
  {
   "attachments": {},
   "cell_type": "markdown",
   "metadata": {},
   "source": [
    "Ans: Polynomial Regression is a form of Linear regression known as a special case of Multiple linear regression which estimates the relationship as an nth degree polynomial."
   ]
  },
  {
   "attachments": {},
   "cell_type": "markdown",
   "metadata": {},
   "source": [
    "Q14. Describe the basis function."
   ]
  },
  {
   "attachments": {},
   "cell_type": "markdown",
   "metadata": {},
   "source": [
    "Ans: A basis function is an element of a particular basis for a function space. Every function in the function space can be represented as a linear combination of basis functions, just as every vector in a vector space can be represented as a linear combination of basis vectors."
   ]
  },
  {
   "attachments": {},
   "cell_type": "markdown",
   "metadata": {},
   "source": [
    "Q15. Describe how logistic regression works."
   ]
  },
  {
   "attachments": {},
   "cell_type": "markdown",
   "metadata": {},
   "source": [
    "Ans: It is probabilistic approach to solve classification problems in this we use sigmoid function to classify the data points."
   ]
  }
 ],
 "metadata": {
  "language_info": {
   "name": "python"
  },
  "orig_nbformat": 4
 },
 "nbformat": 4,
 "nbformat_minor": 2
}
