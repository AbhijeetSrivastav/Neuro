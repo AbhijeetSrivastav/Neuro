{
 "cells": [
  {
   "cell_type": "markdown",
   "metadata": {},
   "source": [
    "Q1. What is the concept of supervised learning? What is the significance of the name?"
   ]
  },
  {
   "cell_type": "markdown",
   "metadata": {},
   "source": [
    "Ans: \n",
    "\n",
    "- Supervised learning is type of machine learning in which we have labeled data. i.e we have a target column which contains truth values and based on relationship between input feature and target feature we have to predict or classify the data instance.\n",
    "\n",
    "- It is supervised learning because we have something called target which guides or supervise us to give desired output."
   ]
  },
  {
   "cell_type": "markdown",
   "metadata": {},
   "source": [
    "Q2. In the hospital sector, offer an example of supervised learning."
   ]
  },
  {
   "cell_type": "markdown",
   "metadata": {},
   "source": [
    "Ans: Examples of supervised learning in hospitals:\n",
    "- Classifying the patients as critical, moderate and non critical to handle hospital traffic.\n",
    "- Predicting the occupancy of different wards at specific time or base on given traffic.\n",
    "- Predicting the availability of specific doctor.\n",
    "- Etc."
   ]
  },
  {
   "cell_type": "markdown",
   "metadata": {},
   "source": [
    "Q3. Give three supervised learning examples."
   ]
  },
  {
   "cell_type": "markdown",
   "metadata": {},
   "source": [
    "Ans:  Examples of supervised learning:\n",
    "- Classifying the patients as critical, moderate or non critical to handle hospital traffic.\n",
    "- Predicting the football score based on historic data.\n",
    "- Predicting stock market trends."
   ]
  },
  {
   "cell_type": "markdown",
   "metadata": {},
   "source": [
    "Q4. In supervised learning, what are classification and regression?"
   ]
  },
  {
   "cell_type": "markdown",
   "metadata": {},
   "source": [
    "Ans:\n",
    "\n",
    "- Classification is approach to classify the data instance into certain class which are available in target feature.\n",
    "- Regression is approach to establish relationship between input features and target feature and predict the value of target feature when specific data instance given."
   ]
  },
  {
   "cell_type": "markdown",
   "metadata": {},
   "source": [
    "Q5. Give some popular classification algorithms as examples."
   ]
  },
  {
   "cell_type": "markdown",
   "metadata": {},
   "source": [
    "Ans: Some popular classification algorithms are:\n",
    "- Logistic Classifier\n",
    "- Support Vector Classifier\n",
    "- Decision Tree Classifier"
   ]
  },
  {
   "cell_type": "markdown",
   "metadata": {},
   "source": [
    "Q6. Briefly describe the SVM model."
   ]
  },
  {
   "cell_type": "markdown",
   "metadata": {},
   "source": [
    "Ans: Support vector machine learning model is approach to build model when we know the truth value of desired output, i.e target feature is known and we try to establish a relationship between target feature and input feature to predict or classify the value of the target feature."
   ]
  },
  {
   "cell_type": "markdown",
   "metadata": {},
   "source": [
    "Q7. In SVM, what is the cost of misclassification?"
   ]
  },
  {
   "cell_type": "markdown",
   "metadata": {},
   "source": [
    "Ans: \n",
    "\n",
    "- It increases hyperparameter.\n",
    "- Weight changes which is basically unit vector to the hyperplane thus leading to wrong alignment of the hyperplane."
   ]
  },
  {
   "cell_type": "markdown",
   "metadata": {},
   "source": [
    "Q8. In the SVM model, define Support Vectors."
   ]
  },
  {
   "cell_type": "markdown",
   "metadata": {},
   "source": [
    "Ans: Data points which are closer to the hyperplane and influence the position and orientation of hyperplane are known as support vectors."
   ]
  },
  {
   "cell_type": "markdown",
   "metadata": {},
   "source": [
    "Q9. In the SVM model, define the kernel."
   ]
  },
  {
   "cell_type": "markdown",
   "metadata": {},
   "source": [
    "Ans:  Kernel is mathematical function which transforms dataset to different dimension which helps to fit the hyperplane in non linear dataset which helps to classify or predict the data instance in better way."
   ]
  },
  {
   "cell_type": "markdown",
   "metadata": {},
   "source": [
    "Q10. What are the factors that influence SVM&#39;s effectiveness?"
   ]
  },
  {
   "cell_type": "markdown",
   "metadata": {},
   "source": [
    "Ans: Factors affecting SVM's effectiveness are:\n",
    "- Kernel \n",
    "- Margins"
   ]
  },
  {
   "cell_type": "markdown",
   "metadata": {},
   "source": [
    "Q11. What are the benefits of using the SVM model?"
   ]
  },
  {
   "cell_type": "markdown",
   "metadata": {},
   "source": [
    "Ans: Benefits of SVM:\n",
    "\n",
    "- Works with high dimensional data.\n",
    "- Effective if number of dimensions > no. of samples.\n",
    "- Versatile as variety of kernels available."
   ]
  },
  {
   "cell_type": "markdown",
   "metadata": {},
   "source": [
    "Q12. What are the drawbacks of using the SVM model?"
   ]
  },
  {
   "cell_type": "markdown",
   "metadata": {},
   "source": [
    "Ans: Drawbacks of SVM:\n",
    "\n",
    "- If dimension of data is less then lead to over fitting, although we can overcome this using appropriate kernel.\n",
    "- Don't provide probability estimate directly and need to use cross validation techniques."
   ]
  },
  {
   "cell_type": "markdown",
   "metadata": {},
   "source": [
    "Q13. Notes should be written on\n",
    "\n",
    "1. The kNN algorithm has a validation flaw.\n",
    "\n",
    "2. In the kNN algorithm, the k value is chosen.\n",
    "\n",
    "3. A decision tree with inductive bias"
   ]
  },
  {
   "cell_type": "markdown",
   "metadata": {},
   "source": [
    "Ans:\n",
    "\n",
    "- Knn has no validation flaw, we can apply validation until model is predictive after that we have to stop it.\n",
    "\n",
    "- In KNN, finding the value of k is not easy. A small value of k means that noise will have a higher influence on the result and a large value make it computationally expensive. Data scientists usually choose as an odd number if the number of classes is 2 and another simple approach to select k is set k=sqrt(n).\n",
    "\n",
    "- Inductive bias is the assumptions made by an algorithm before building a model. The assumptions made by decision tree are:\n",
    "    - Depth of tree\n",
    "    - No. of samples\n",
    "    - etc"
   ]
  },
  {
   "cell_type": "markdown",
   "metadata": {},
   "source": [
    "Q14. What are some of the benefits of the kNN algorithm?"
   ]
  },
  {
   "cell_type": "markdown",
   "metadata": {},
   "source": [
    "Ans: Benefits of KNN:\n",
    "\n",
    "- Works for both classification and regression.\n",
    "- Deals with non linear data.\n",
    "- Perform better with good amount of data."
   ]
  },
  {
   "cell_type": "markdown",
   "metadata": {},
   "source": [
    "Q15. What are some of the kNN algorithm&#39;s drawbacks?"
   ]
  },
  {
   "cell_type": "markdown",
   "metadata": {},
   "source": [
    "Ans: Drawbacks of KNN:\n",
    "- Time complexity high.\n",
    "- Determination of `k` is hard.\n",
    "- Sensitive to irrelevant features."
   ]
  },
  {
   "cell_type": "markdown",
   "metadata": {},
   "source": [
    "Q16. Explain the decision tree algorithm in a few words."
   ]
  },
  {
   "cell_type": "markdown",
   "metadata": {},
   "source": [
    "Ans: Supervised algorithm with goal to predict or classify the data instance by learning simple decision rules inferred from data features."
   ]
  },
  {
   "cell_type": "markdown",
   "metadata": {},
   "source": [
    "Q17. What is the difference between a node and a leaf in a decision tree?"
   ]
  },
  {
   "cell_type": "markdown",
   "metadata": {},
   "source": [
    "Ans:\n",
    "\n",
    "- A node or decision node is the point where data split and it contains the feature and split criteria.\n",
    "- Leaf node is the last node which contains the decision reached after `n` splits."
   ]
  },
  {
   "cell_type": "markdown",
   "metadata": {},
   "source": [
    "Q18. What is a decision tree&#39;s entropy?"
   ]
  },
  {
   "cell_type": "markdown",
   "metadata": {},
   "source": [
    "Ans: Shanom entropy is defined for finite set `S` is measure of amount of uncertainty or randomness in data.\n",
    "\n",
    "It is measure of impurity in given sample training data."
   ]
  },
  {
   "cell_type": "markdown",
   "metadata": {},
   "source": [
    "Q19. In a decision tree, define knowledge gain."
   ]
  },
  {
   "cell_type": "markdown",
   "metadata": {},
   "source": [
    "Ans: Information gain of Kullback Leibler divergence is the efefctive change in the entropy after deciding on particular attribute `A` , i.e for a node.\n",
    "\n",
    "It measure relative change in entropy with respect to independent variables.\n",
    "\n",
    "\n",
    "```\n",
    "IG = Entropy before split - Entropy after split\n",
    "```"
   ]
  },
  {
   "cell_type": "markdown",
   "metadata": {},
   "source": [
    "Q20. Choose three advantages of the decision tree approach and write them down.\n"
   ]
  },
  {
   "cell_type": "markdown",
   "metadata": {},
   "source": [
    "Ans: Advantages of decision tree:\n",
    "- Easy interpretation.\n",
    "- Time complexity low: `O(logn)`\n",
    "- Use white box model"
   ]
  },
  {
   "cell_type": "markdown",
   "metadata": {},
   "source": [
    "Q21. Make a list of three flaws in the decision tree process."
   ]
  },
  {
   "cell_type": "markdown",
   "metadata": {},
   "source": [
    "Ans: Disadvantages of decision tree:\n",
    "- Unstable as small variation in data can result in completely new tree.\n",
    "- Over fitting an occur due to high dept of the tree.\n",
    "- Predictions are neither continuos discrete instead its piecewise constant approximation."
   ]
  },
  {
   "cell_type": "markdown",
   "metadata": {},
   "source": [
    "Q22. Briefly describe the random forest model."
   ]
  },
  {
   "cell_type": "markdown",
   "metadata": {},
   "source": [
    "Ans: Random Forest is a ensemble machine learning model, to be specific bagging method that contains a number of decision trees on various subsets of the given dataset and takes the average to improve the predictive accuracy of that dataset."
   ]
  }
 ],
 "metadata": {
  "language_info": {
   "name": "python"
  },
  "orig_nbformat": 4
 },
 "nbformat": 4,
 "nbformat_minor": 2
}
