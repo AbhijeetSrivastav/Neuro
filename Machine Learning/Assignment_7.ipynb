{
 "cells": [
  {
   "cell_type": "markdown",
   "metadata": {},
   "source": [
    "Q1. What is the definition of a target function? In the sense of a real-life example, express the target\n",
    "function. How is a target function&#39;s fitness assessed?"
   ]
  },
  {
   "cell_type": "markdown",
   "metadata": {},
   "source": [
    "Ans:\n",
    "\n",
    "- Function is a mathematical formulation which maps values from set X to the values of set Y.\n",
    "- Target function is function in machine learning algorithm to which algorithm feeds input features to get target output features either as predictions are classifications.\n",
    "\n",
    "- Target functions accuracy can be measured in following ways:\n",
    "     - No. of correct predictions made\n",
    "     - No. of incorrect predictions made\n",
    "    - Rate of error\n",
    "        - MSE\n",
    "        - RMSE\n",
    "        - Absolute MSE"
   ]
  },
  {
   "cell_type": "markdown",
   "metadata": {},
   "source": [
    "Q2. What are predictive models, and how do they work? What are descriptive types, and how do you\n",
    "use them? Examples of both types of models should be provided. Distinguish between these two\n",
    "forms of models."
   ]
  },
  {
   "cell_type": "markdown",
   "metadata": {},
   "source": [
    "Ans:\n",
    "\n",
    "**Predictive models:**\n",
    "- Predictive models are used to predict a output feature based on values of input features.\n",
    "- Ex- Predicting sunny or rainy day\n",
    "\n",
    "**Descrieptive models:**\n",
    "- Descriptive models describes the real world events and the relationship between factors responsible for them, i.e relationship between various features.\n",
    "- Ex- Customer segmentation"
   ]
  },
  {
   "cell_type": "markdown",
   "metadata": {},
   "source": [
    "Q3. Describe the method of assessing a classification model&#39;s efficiency in detail. Describe the various\n",
    "measurement parameters."
   ]
  },
  {
   "cell_type": "markdown",
   "metadata": {},
   "source": [
    "Ams: \n",
    "\n",
    "Log loss is used to measure accuracy of classification models where the probability of prediction lies within range of 0 to 1.\n",
    "\n",
    "Metrics to evaluate classification models are:\n",
    "\n",
    "```\n",
    "accuracy  = (TP + TN) / (TP + TN + FP + FN)\n",
    "\n",
    "precision = (TP) / (TP + FP)\n",
    "\n",
    "recall = (TP) / (TP + FN)\n",
    "\n",
    "```"
   ]
  },
  {
   "cell_type": "markdown",
   "metadata": {},
   "source": [
    "Q4.\n",
    "\n",
    "i. In the sense of machine learning models, what is underfitting? What is the most common\n",
    "reason for underfitting?\n",
    "\n",
    "ii. What does it mean to overfit? When is it going to happen?\n",
    "\n",
    "iii. In the sense of model fitting, explain the bias-variance trade-off."
   ]
  },
  {
   "cell_type": "markdown",
   "metadata": {},
   "source": [
    "Ans:\n",
    "\n",
    "- Under fitting is the condition in which ml model fails to learn the relationship between input features and output feature. It leads to high bias and low variance. It occurs when gradient descent algorithm fails to descent to global minima.\n",
    "\n",
    "- Over fitting is the condition in which ml model is to complex and fails to generalize and learns too precisely only on training set. It leads to low bias and high variance.\n",
    "\n",
    "- We have to do Bias variance tradeoff to get that sweet spot where model neither is too complex nor to simple to work."
   ]
  },
  {
   "cell_type": "markdown",
   "metadata": {},
   "source": [
    "Q5. Is it possible to boost the efficiency of a learning model? If so, please clarify how.\n",
    " model?"
   ]
  },
  {
   "cell_type": "markdown",
   "metadata": {},
   "source": [
    "Ans: We can boost efficiency of a model by following ways:\n",
    "- Supply more balanced data\n",
    "- Supply more data points in dataset\n",
    "- Tune the hyperparameter\n",
    "- Use ensemble techniques\n",
    "- Change the perspective on problem  "
   ]
  },
  {
   "cell_type": "markdown",
   "metadata": {},
   "source": [
    "Q6. How would you rate an unsupervised learning model&#39;s success? What are the most common\n",
    "success indicators for an unsupervised learning"
   ]
  },
  {
   "cell_type": "markdown",
   "metadata": {},
   "source": [
    "Ans: Various ways to evaluate unsupervised ml models:\n",
    "- Clustering\n",
    "    - Rand Index\n",
    "    - Silhouette \n",
    "    - Sum of squared error\n",
    "- Association Rule\n",
    "    - Lift\n",
    "    - Confidence\n",
    "- Etc"
   ]
  },
  {
   "cell_type": "markdown",
   "metadata": {},
   "source": [
    "Q7. Is it possible to use a classification model for numerical data or a regression model for categorical\n",
    "data with a classification model? Explain your answer."
   ]
  },
  {
   "cell_type": "markdown",
   "metadata": {},
   "source": [
    "Ans: We can do it for few algorithms with few tweeks, like linear regression can be tweaked to do kind of logistic regression task but its not efficient at all.\n",
    "\n",
    "Each of the algorithms have their variation for each of the tasks, like decision tree classifier and decision tree regressor."
   ]
  },
  {
   "cell_type": "markdown",
   "metadata": {},
   "source": [
    "Q8. Describe the predictive modeling method for numerical values. What distinguishes it from\n",
    "categorical predictive modeling?"
   ]
  },
  {
   "cell_type": "markdown",
   "metadata": {},
   "source": [
    "Ans:\n",
    "\n",
    "- Predictive modeling methods try to find the weights or coefficients to find relationship between input and output feature. Basically they try to find with what amount of change in each of the input feature how output feature changes.\n",
    "\n",
    "- Categorical modeling models try to find out label for specific set of values of input features."
   ]
  },
  {
   "cell_type": "markdown",
   "metadata": {},
   "source": [
    "Q9. The following data were collected when using a classification model to predict the malignancy of a\n",
    "group of patients&#39; tumors:\n",
    "\n",
    "i. Accurate estimates – 15 cancerous, 75 benign\n",
    "\n",
    "ii. Wrong predictions – 3 cancerous, 7 benign\n",
    "\n",
    "Determine the model&#39;s error rate, Kappa value, sensitivity, precision, and F-measure."
   ]
  },
  {
   "cell_type": "markdown",
   "metadata": {},
   "source": [
    "Q10. Make quick notes on:\n",
    "1. The process of holding out\n",
    "2. Cross-validation by tenfold\n",
    "3. Adjusting the parameters"
   ]
  },
  {
   "cell_type": "markdown",
   "metadata": {},
   "source": [
    "Ans: \n",
    "\n",
    "**The process of holding out:**\n",
    "\n",
    "The hold-out method for training machine learning model is the process of splitting the data, using one split for training the model and other splits for validating and testing the models. The hold-out method is used for both model evaluation and model selection.\n",
    "\n",
    "**Cross-validation by tenfold:**\n",
    "\n",
    "It simple means we will do cross validation of our model ten times. That means our training set will split by random with replacement methodology 10 times.\n",
    "\n",
    "**Adjusting the parameters:**\n",
    "\n",
    "Tunning the parameters of model to optimize it for better results."
   ]
  },
  {
   "cell_type": "markdown",
   "metadata": {},
   "source": [
    "Q11. Define the following terms:\n",
    "1. Purity vs. Silhouette width\n",
    "2. Boosting vs. Bagging\n",
    "3. The eager learner vs. the lazy learner"
   ]
  },
  {
   "cell_type": "markdown",
   "metadata": {},
   "source": [
    "Ans:\n",
    "\n",
    "**Purity vs Silhouette width:**\n",
    "\n",
    "- Purity is a measure of the extent to which clusters contain a single class. \n",
    "\n",
    "- The silhouette width is estimate of the average inter cluster distance.\n",
    "\n",
    "\n",
    "**Boosting vs. Bagging:**\n",
    "\n",
    "- Bagging is ensemble technique in which models are arranged in parallel combination. So each model receives a part of training set which is selected with random with repetition methodology at same time. \n",
    "And each model then produce output, the overall output is either max vote in case of classification or average in case or regression.\n",
    "\n",
    "- Boosting is ensemble technique in which models are arranged in linear sequence. So first model receives complete training set and produces output. After that only those data points for which model has produced wrong output are passed to next model. These steps keep repeating.\n",
    "\n",
    "**The eager learner vs. the lazy learner:**\n",
    "\n",
    "- A lazy learner delays abstracting from the data until it is asked to make a prediction.\n",
    "\n",
    "- An eager learner abstracts away from the data during training and uses this abstraction to make predictions rather than directly compare queries with instances in the dataset."
   ]
  }
 ],
 "metadata": {
  "kernelspec": {
   "display_name": "Python 3.9.7 64-bit",
   "language": "python",
   "name": "python3"
  },
  "language_info": {
   "name": "python",
   "version": "3.9.7"
  },
  "orig_nbformat": 4,
  "vscode": {
   "interpreter": {
    "hash": "2a8dfe095fce2b5e88c64a2c3ee084c8e0e0d70b23e7b95b1cfb538be294c5c8"
   }
  }
 },
 "nbformat": 4,
 "nbformat_minor": 2
}
