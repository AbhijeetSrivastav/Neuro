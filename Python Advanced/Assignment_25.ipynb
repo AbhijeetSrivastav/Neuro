{
 "cells": [
  {
   "cell_type": "markdown",
   "metadata": {},
   "source": [
    "Q1. What is the distinction between a numpy array and a pandas data frame? Is there a way to\n",
    "convert between the two if there is?"
   ]
  },
  {
   "cell_type": "markdown",
   "metadata": {},
   "source": [
    "Ans:\n",
    "\n",
    "* Numpy array provides additional functionalities over conventional python list to perform numerical operations which are not possible normally. Like presence of infinite symbol.\n",
    "\n",
    "* Pandas Dataframe is a tabular representation of data which helps to perform dat related operations with ease.\n",
    "\n",
    "We can convert numpy array to a dataframe easily.\n",
    "\n",
    "`df = pd.DataFrame(np_Array)`"
   ]
  },
  {
   "cell_type": "markdown",
   "metadata": {},
   "source": [
    "Q2. What can go wrong when an user enters in a stock-ticker symbol, and how do you handle it?"
   ]
  },
  {
   "cell_type": "markdown",
   "metadata": {},
   "source": [
    "Ans:\n",
    "\n",
    "* A ticker symbol is the grouping of a specific set of characters that represent and identify a public security listed on an exchange.\n",
    "\n",
    "* The ticker symbol of an acquired company usually changes to the acquirer's after the completion of a merger.\n",
    "\n",
    "* A company that changes its name may change its ticker.\n",
    "\n",
    "* When companies are de listed from their exchanges, the symbol changes.\n",
    "\n",
    "* Investors don't need to do anything after a ticker symbol changes."
   ]
  },
  {
   "cell_type": "markdown",
   "metadata": {},
   "source": [
    "Q3. Identify some of the plotting techniques that are used to produce a stock-market chart."
   ]
  },
  {
   "cell_type": "markdown",
   "metadata": {},
   "source": [
    "Ans:\n",
    "\n",
    "* Bar\n",
    "* Histogram\n",
    "* Line\n",
    "* CandleStick"
   ]
  },
  {
   "cell_type": "markdown",
   "metadata": {},
   "source": [
    "Q4. Why is it essential to print a legend on a stock market chart?"
   ]
  },
  {
   "cell_type": "markdown",
   "metadata": {},
   "source": [
    "Ans: Its important because without legend we will not be able to understand which line or colour or bar or pie represents what.\n",
    "\n",
    "It also gives information about the point over which we are hovering."
   ]
  },
  {
   "cell_type": "markdown",
   "metadata": {},
   "source": [
    "Q5. What is the best way to limit the length of a pandas data frame to less than a year?"
   ]
  },
  {
   "cell_type": "markdown",
   "metadata": {},
   "source": [
    "Ans:\n",
    "\n",
    "* Use periods\n",
    "* Use `frequency` argument\n",
    "* Use `start` and `stop` arguments"
   ]
  },
  {
   "cell_type": "markdown",
   "metadata": {},
   "source": [
    "Q6. What is the definition of a 180-day moving average?"
   ]
  },
  {
   "cell_type": "markdown",
   "metadata": {},
   "source": [
    "Ans:\n",
    "\n",
    "* A moving average (MA) is a stock indicator commonly used in technical analysis.\n",
    "\n",
    "* The moving average helps to level the price data over a specified period by creating a constantly updated average price.\n",
    "\n",
    "* 180 day MA represents the price data over the 180 days."
   ]
  },
  {
   "cell_type": "markdown",
   "metadata": {},
   "source": [
    "Q7. Did the chapter&#39;s final example use &quot;indirect&quot; importing? If so, how exactly do you do it?"
   ]
  },
  {
   "cell_type": "markdown",
   "metadata": {},
   "source": [
    "Ans: We can indirectly install using the `requirements.txt` via command:\n",
    "\n",
    "`pip install -r requirements.txt`"
   ]
  }
 ],
 "metadata": {
  "kernelspec": {
   "display_name": "Python 3.9.12 ('base')",
   "language": "python",
   "name": "python3"
  },
  "language_info": {
   "codemirror_mode": {
    "name": "ipython",
    "version": 3
   },
   "file_extension": ".py",
   "mimetype": "text/x-python",
   "name": "python",
   "nbconvert_exporter": "python",
   "pygments_lexer": "ipython3",
   "version": "3.9.12"
  },
  "orig_nbformat": 4,
  "vscode": {
   "interpreter": {
    "hash": "198dc38c81252feb4faa0d475279f5f6c993dd4570bd3709069413259282040c"
   }
  }
 },
 "nbformat": 4,
 "nbformat_minor": 2
}
