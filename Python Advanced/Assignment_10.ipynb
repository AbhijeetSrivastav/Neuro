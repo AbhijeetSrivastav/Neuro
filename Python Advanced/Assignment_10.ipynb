{
 "cells": [
  {
   "cell_type": "markdown",
   "metadata": {},
   "source": [
    "Q1. What is the difference between __getattr__ and __getattribute__?"
   ]
  },
  {
   "cell_type": "markdown",
   "metadata": {},
   "source": [
    "Ans: \n",
    "\n",
    "* `__getattribute__` used to get attribute of a class and returns  `Attribute Error` if fails to do so.\n",
    "\n",
    "* `__getattr__` used to return a default value if `Attribute Error` thrown by `__getattribute__`.\n",
    "\n",
    "* For this to function properly both should be in the same class."
   ]
  },
  {
   "cell_type": "markdown",
   "metadata": {},
   "source": [
    "Q2. What is the difference between properties and descriptors?"
   ]
  },
  {
   "cell_type": "markdown",
   "metadata": {},
   "source": [
    "Ans: If we want to return a value after applying a function over a attribute easily we use `property` which is defined using the `@property` decorator. It basically binds the getter, setter, delete of function to an attribute.\n",
    "\n",
    "Descriptors are also used to return a value after applying a function over a attribute but instead of binding the getter, setter and delete directly too the attribute, it binds them into separate class, then we create object of these classes and bind them to the attribute."
   ]
  },
  {
   "cell_type": "markdown",
   "metadata": {},
   "source": [
    "Q3. What are the key differences in functionality between __getattr__ and __getattribute__, as well as properties and descriptors?"
   ]
  },
  {
   "cell_type": "markdown",
   "metadata": {},
   "source": [
    "Ans: \n",
    "\n",
    "`__getattribute__ vs __getattr__`\n",
    "\n",
    "* `__getattribute__` used to get attribute of a class and returns  `Attribute Error` if fails to do so.\n",
    "\n",
    "* `__getattr__` used to return a default value if `Attribute Error` thrown by `__getattribute__`.\n",
    "\n",
    "* For this to function properly both should be in the same class.\n",
    "\n",
    "`Property vs Descriptors`\n",
    "\n",
    "\n",
    "If we want to return a value after applying a function over a attribute easily we use `property` which is defined using the `@property` decorator. It basically binds the getter, setter, delete of function to an attribute.\n",
    "\n",
    "Descriptors are also used to return a value after applying a function over a attribute but instead of binding the getter, setter and delete directly too the attribute, it binds them into separate class, then we create object of these classes and bind them to the attribute."
   ]
  }
 ],
 "metadata": {
  "kernelspec": {
   "display_name": "Python 3.9.12 ('base')",
   "language": "python",
   "name": "python3"
  },
  "language_info": {
   "name": "python",
   "version": "3.9.12"
  },
  "orig_nbformat": 4,
  "vscode": {
   "interpreter": {
    "hash": "198dc38c81252feb4faa0d475279f5f6c993dd4570bd3709069413259282040c"
   }
  }
 },
 "nbformat": 4,
 "nbformat_minor": 2
}
