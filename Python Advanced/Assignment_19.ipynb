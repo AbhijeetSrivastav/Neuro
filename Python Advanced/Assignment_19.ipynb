{
 "cells": [
  {
   "cell_type": "markdown",
   "metadata": {},
   "source": [
    "Q1. Define the relationship between a class and its instances. Is it a one-to-one or a one-to-many\n",
    "partnership, for example?"
   ]
  },
  {
   "cell_type": "markdown",
   "metadata": {},
   "source": [
    "Ans:\n",
    "\n",
    "One class can have many instances.\n",
    "\n",
    "Ex- A class Car can have Tata, Mahindra as their instances."
   ]
  },
  {
   "cell_type": "markdown",
   "metadata": {},
   "source": [
    "Q2. What kind of data is held only in an instance?"
   ]
  },
  {
   "cell_type": "markdown",
   "metadata": {},
   "source": [
    "Ans: Instance variable values are hold by the instance which are passed to the instance of class when they are created or declared and defined."
   ]
  },
  {
   "cell_type": "markdown",
   "metadata": {},
   "source": [
    "Q3. What kind of knowledge is stored in a class?"
   ]
  },
  {
   "cell_type": "markdown",
   "metadata": {},
   "source": [
    "Ans: Class is logical entity which mimics the functions and attribute of a real life object and itself is not a real life object.\n",
    "\n",
    "A class holds functions as methods and attributes as class variable which are used throughout the class and are not same as instance variable."
   ]
  },
  {
   "cell_type": "markdown",
   "metadata": {},
   "source": [
    "Q4. What exactly is a method, and how is it different from a regular function?"
   ]
  },
  {
   "cell_type": "markdown",
   "metadata": {},
   "source": [
    "Ans: Method is a function which is associated with the instance of the class and only operates on instance or object of the same class. It mimics some functionalities of real life object.\n",
    "\n",
    "On the other hand function is bundle of similar line of codes which produces a result and they are not bonded with instance or something like that. They can be within the class or without the class."
   ]
  },
  {
   "cell_type": "markdown",
   "metadata": {},
   "source": [
    "Q5. Is inheritance supported in Python, and if so, what is the syntax?\n"
   ]
  },
  {
   "cell_type": "markdown",
   "metadata": {},
   "source": [
    "Ans: Yes its supported."
   ]
  },
  {
   "cell_type": "code",
   "execution_count": 8,
   "metadata": {},
   "outputs": [],
   "source": [
    "class Vehicle:\n",
    "    def __init__(self, height, weight, colour) -> None:\n",
    "        self.height = height\n",
    "        self.weight = weight\n",
    "        self.colour = colour\n",
    "    \n",
    "    def hw(self):\n",
    "        return self.height + self.weight\n",
    "\n",
    "\n",
    "\n",
    "class Bike(Vehicle):\n",
    "    def __init__(self, height, weight, colour, handleL) -> None:\n",
    "        super().__init__(height, weight, colour)\n",
    "        self.handleL = handleL"
   ]
  },
  {
   "cell_type": "markdown",
   "metadata": {},
   "source": [
    "Q6. How much encapsulation (making instance or class variables private) does Python support?"
   ]
  },
  {
   "cell_type": "markdown",
   "metadata": {},
   "source": [
    "Ans: Its not strict in python.\n",
    "\n",
    "Encapsulation just makes a wrapper which allows to declare the variables as public, private or protected, we can still access them outside of the class even if they are protected as they are just for the representation for the programmers. "
   ]
  },
  {
   "cell_type": "markdown",
   "metadata": {},
   "source": [
    "Q7. How do you distinguish between a class variable and an instance variable?"
   ]
  },
  {
   "cell_type": "markdown",
   "metadata": {},
   "source": [
    "Ans: Instance variables are defined within the constructor of the class and have different value for different instance of the class.\n",
    "\n",
    "While class variable are defined over the constructor in the beginning of the class and have same value for all the instance of the class."
   ]
  },
  {
   "cell_type": "markdown",
   "metadata": {},
   "source": [
    "Q8. When, if ever, can self be included in a class&#39;s method definitions?"
   ]
  },
  {
   "cell_type": "markdown",
   "metadata": {},
   "source": [
    "Ans: `self` is used within the class methods to access the instance variables within the methods."
   ]
  },
  {
   "cell_type": "markdown",
   "metadata": {},
   "source": [
    "Q9. What is the difference between the _ _add_ _ and the _ _radd_ _ methods?"
   ]
  },
  {
   "cell_type": "markdown",
   "metadata": {},
   "source": [
    "Ans: Consider two operands `a` and `b`.\n",
    "\n",
    "Internally `__add__` is same as `a.add(b)` so if it fails then python calls `__radd__` which is basically `b.add(a)` instead of throwing error.\n",
    "\n",
    "The error which occurs in the case `__add__` fails is type error which happens when two operands are not of same type."
   ]
  },
  {
   "cell_type": "markdown",
   "metadata": {},
   "source": [
    "Q10. When is it necessary to use a reflection method? When do you not need it, even though you\n",
    "support the operation in question?"
   ]
  },
  {
   "cell_type": "markdown",
   "metadata": {},
   "source": [
    "Ans: Reflection methods are inbuilt methods which help us know more about the object or instance of a class.\n",
    "\n",
    "Example- Type of object.\n",
    "\n",
    "We can make functions which work for different data types using it. Like add operator will add operands if they are int and will concatenate if they are str."
   ]
  },
  {
   "cell_type": "markdown",
   "metadata": {},
   "source": [
    "Q11. What is the _ _iadd_ _ method called?"
   ]
  },
  {
   "cell_type": "markdown",
   "metadata": {},
   "source": [
    "Ans: When we do `a+b` then `a.add(b)` is called and if it fails then `__radd__` which is same as `b.add(a)` is called.\n",
    "\n",
    "\n",
    "But when we do smthng like `a+=b` then `__iadd__` is called which is same as `a.__iadd__(b)`."
   ]
  },
  {
   "cell_type": "markdown",
   "metadata": {},
   "source": [
    "Q12. Is the _ _init_ _ method inherited by subclasses? What do you do if you need to customize its\n",
    "behavior within a subclass?"
   ]
  },
  {
   "cell_type": "markdown",
   "metadata": {},
   "source": [
    "Ans: Child class do inherit the `__init__` method of the parent class.\n",
    "\n",
    "If we want to alter the constructor of child class we need to activate the constructor of parent without alteration using the `super` constructor."
   ]
  }
 ],
 "metadata": {
  "kernelspec": {
   "display_name": "Python 3.9.12 ('base')",
   "language": "python",
   "name": "python3"
  },
  "language_info": {
   "codemirror_mode": {
    "name": "ipython",
    "version": 3
   },
   "file_extension": ".py",
   "mimetype": "text/x-python",
   "name": "python",
   "nbconvert_exporter": "python",
   "pygments_lexer": "ipython3",
   "version": "3.9.12"
  },
  "orig_nbformat": 4,
  "vscode": {
   "interpreter": {
    "hash": "198dc38c81252feb4faa0d475279f5f6c993dd4570bd3709069413259282040c"
   }
  }
 },
 "nbformat": 4,
 "nbformat_minor": 2
}
