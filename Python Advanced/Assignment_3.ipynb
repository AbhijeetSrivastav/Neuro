{
 "cells": [
  {
   "cell_type": "markdown",
   "metadata": {},
   "source": [
    "Q1. What is the concept of an abstract superclass?"
   ]
  },
  {
   "cell_type": "markdown",
   "metadata": {},
   "source": [
    "Ans: \n",
    "\n",
    "* Super Class act as blueprint for child classes and contains all the methods and attributes which will be utilized by the child classes.\n",
    "\n",
    "* Abstract super class is a class which contains one or more abstract methods.\n",
    "\n",
    "* Abstract method is a method which has a declaration but no implementation."
   ]
  },
  {
   "cell_type": "code",
   "execution_count": 11,
   "metadata": {},
   "outputs": [],
   "source": [
    "from abc import ABC, abstractmethod\n",
    "\n",
    "class Animal(ABC):   # abstract class\n",
    "    @abstractmethod\n",
    "    def dna(self):  # abstract method\n",
    "        pass\n",
    "\n",
    "class Human(Animal):    # child class\n",
    "    # overriding(or defining or implementing) the abstract method declared in  abstract class\n",
    "    def dna(self):\n",
    "        print('dna of human!')  "
   ]
  },
  {
   "cell_type": "markdown",
   "metadata": {},
   "source": [
    "Q2. What happens when a class statement&#39;s top level contains a basic assignment statement?"
   ]
  },
  {
   "cell_type": "markdown",
   "metadata": {},
   "source": [
    "Ans: Attributes declared and defined on the top level of class are class level attributes while the attributes defined within the constructor are the object level or instance level attributes."
   ]
  },
  {
   "cell_type": "code",
   "execution_count": 10,
   "metadata": {},
   "outputs": [],
   "source": [
    "class Robot:\n",
    "    category = 'humanoid'   # class level \n",
    "\n",
    "    def __init__(self, version, commissioned):\n",
    "        self.version = version     # instance level\n",
    "        self.commissioned = commissioned"
   ]
  },
  {
   "cell_type": "markdown",
   "metadata": {},
   "source": [
    "Q3. Why does a class need to manually call a superclass&#39;s __init__ method?"
   ]
  },
  {
   "cell_type": "markdown",
   "metadata": {},
   "source": [
    "Ans: If we have `__init__` method in the child class then it would override the `__init__` method of the parent class.\n",
    "\n",
    "So to avoid that we call the `__init__` method of the parent class using the `super().__init__` method in the child class."
   ]
  },
  {
   "cell_type": "markdown",
   "metadata": {},
   "source": [
    "Q4. How can you augment, instead of completely replacing, an inherited method?"
   ]
  },
  {
   "cell_type": "markdown",
   "metadata": {},
   "source": [
    "Ans:  we can use `super().__init__()` dunder method to augment a method inherited from a parent class.\n",
    "\n",
    "Here we can see Human class has two object level attributes but Employee class which inherited from Human has three object level attributes.\n",
    "\n",
    "So if we were to call the constructor with three arguments within the Employee class it would have tried to initialize three attributes in the Human class which are not present and would throw error.\n",
    "\n",
    "So to handle that we have initialized the attributes of the Employee class and after that separately initialized the attributes of the parent class using the super method."
   ]
  },
  {
   "cell_type": "code",
   "execution_count": 9,
   "metadata": {},
   "outputs": [
    {
     "name": "stdout",
     "output_type": "stream",
     "text": [
      "{'name': 'abhijeet', 'age': 20, 'salary': 1000}\n"
     ]
    }
   ],
   "source": [
    "class Human:\n",
    "    def __init__(self, name, age):\n",
    "        self.name = name\n",
    "        self.age = age\n",
    "\n",
    "class Employee(Human):\n",
    "    def __init__(self, name, age, salary):\n",
    "        super().__init__(name, age)\n",
    "        self.salary = salary\n",
    "\n",
    "obj = Employee('abhijeet', 20, 1000)   \n",
    "print(obj.__dict__)   "
   ]
  },
  {
   "cell_type": "markdown",
   "metadata": {},
   "source": [
    "Q5. How is the local scope of a class different from that of a function?"
   ]
  },
  {
   "cell_type": "markdown",
   "metadata": {},
   "source": [
    "Ans: Local scope of a function is only valid or has effect within that function.\n",
    "\n",
    "Local scope of a class has effect on various methods which are present within the class and even outside the class but to access it outside the class we need to use `.` after the class name to access that class level variable or method."
   ]
  }
 ],
 "metadata": {
  "kernelspec": {
   "display_name": "Python 3.9.12 ('base')",
   "language": "python",
   "name": "python3"
  },
  "language_info": {
   "codemirror_mode": {
    "name": "ipython",
    "version": 3
   },
   "file_extension": ".py",
   "mimetype": "text/x-python",
   "name": "python",
   "nbconvert_exporter": "python",
   "pygments_lexer": "ipython3",
   "version": "3.9.12"
  },
  "orig_nbformat": 4,
  "vscode": {
   "interpreter": {
    "hash": "198dc38c81252feb4faa0d475279f5f6c993dd4570bd3709069413259282040c"
   }
  }
 },
 "nbformat": 4,
 "nbformat_minor": 2
}
