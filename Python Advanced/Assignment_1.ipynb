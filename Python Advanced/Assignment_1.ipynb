{
 "cells": [
  {
   "cell_type": "markdown",
   "metadata": {},
   "source": [
    "Q1. What is the purpose of Python&#39;s OOP?"
   ]
  },
  {
   "cell_type": "markdown",
   "metadata": {},
   "source": [
    "Ans:\n",
    "\n",
    "* Increase code modularity\n",
    "* Hide the functionality which end user don't need to know\n",
    "* helps to code with analogy with real world stuff\n",
    "* Hide the data not required by the end user"
   ]
  },
  {
   "cell_type": "markdown",
   "metadata": {},
   "source": [
    "Q2. Where does an inheritance search look for an attribute?"
   ]
  },
  {
   "cell_type": "markdown",
   "metadata": {},
   "source": [
    "Ans: \n",
    "\n",
    "* First it looks for attribute within the instance of the class itself\n",
    "* If not found then it search for it in the parent class from where it has been generated"
   ]
  },
  {
   "cell_type": "markdown",
   "metadata": {},
   "source": [
    "Q3. How do you distinguish between a class object and an instance object?"
   ]
  },
  {
   "cell_type": "markdown",
   "metadata": {},
   "source": [
    "Ans:\n",
    "\n",
    "* Class if like factory and object is like the product of this factory.\n",
    "\n",
    "* Class is thing where we put all our code required for certain specific task which includes attributes and methods.\n",
    "\n",
    "* Object is an instance of the class which uses the class as a format to create a new thing with specific attributes.\n",
    "\n",
    "*  For different objects different instance of class are created.\n",
    " \n",
    "* One class can create as many as objects possible.\n",
    "\n",
    "* All these objects or instance of objects are kept at different memory addresses."
   ]
  },
  {
   "cell_type": "markdown",
   "metadata": {},
   "source": [
    "Q4. What makes the first argument in a class’s method function special?"
   ]
  },
  {
   "cell_type": "markdown",
   "metadata": {},
   "source": [
    "Ans: \n",
    "\n",
    "* For instance methods which are object level method `self` is the first argument and it refers to the object itself.\n",
    "\n",
    "* For the class methods which are class level methods `cls` is the first argument and it refers to the class itself."
   ]
  },
  {
   "cell_type": "markdown",
   "metadata": {},
   "source": [
    "Q5. What is the purpose of the __init__ method?"
   ]
  },
  {
   "cell_type": "markdown",
   "metadata": {},
   "source": [
    "Ans: `__init__` is a dunder method or constructor which is called when an object is create using the class and it basically initiates all the attributes of the class. "
   ]
  },
  {
   "cell_type": "markdown",
   "metadata": {},
   "source": [
    "Q6. What is the process for creating a class instance?"
   ]
  },
  {
   "cell_type": "code",
   "execution_count": 1,
   "metadata": {},
   "outputs": [],
   "source": [
    "class xyz:\n",
    "    pass\n",
    "\n",
    "\n",
    "obj1 = xyz()"
   ]
  },
  {
   "cell_type": "markdown",
   "metadata": {},
   "source": [
    "Q7. What is the process for creating a class?"
   ]
  },
  {
   "cell_type": "code",
   "execution_count": 2,
   "metadata": {},
   "outputs": [],
   "source": [
    "class xyz:\n",
    "    def __init__(self, a, b, c):\n",
    "        self.a = a\n",
    "        self.b = b\n",
    "        self.c = c\n",
    "    \n",
    "    def doStuff(self):\n",
    "        pass"
   ]
  },
  {
   "cell_type": "markdown",
   "metadata": {},
   "source": [
    "Q8. How would you define the superclasses of a class?"
   ]
  },
  {
   "cell_type": "code",
   "execution_count": 3,
   "metadata": {},
   "outputs": [],
   "source": [
    "class xyz:\n",
    "    def __init__(self, a, b, c):\n",
    "        self.a = a\n",
    "        self.b = b\n",
    "        self.c = c\n",
    "    \n",
    "    def doStuff(self):\n",
    "        pass\n",
    "\n",
    "\n",
    "class asd(xyz):\n",
    "    pass"
   ]
  }
 ],
 "metadata": {
  "kernelspec": {
   "display_name": "Python 3.9.12 ('base')",
   "language": "python",
   "name": "python3"
  },
  "language_info": {
   "codemirror_mode": {
    "name": "ipython",
    "version": 3
   },
   "file_extension": ".py",
   "mimetype": "text/x-python",
   "name": "python",
   "nbconvert_exporter": "python",
   "pygments_lexer": "ipython3",
   "version": "3.9.12"
  },
  "orig_nbformat": 4,
  "vscode": {
   "interpreter": {
    "hash": "198dc38c81252feb4faa0d475279f5f6c993dd4570bd3709069413259282040c"
   }
  }
 },
 "nbformat": 4,
 "nbformat_minor": 2
}
