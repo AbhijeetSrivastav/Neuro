{
 "cells": [
  {
   "cell_type": "markdown",
   "metadata": {},
   "source": [
    "Q1. What is the concept of a metaclass?"
   ]
  },
  {
   "cell_type": "markdown",
   "metadata": {},
   "source": [
    "Ans:\n",
    "\n",
    "* Metaclass is a class of a class that defines the behavior of that class.\n",
    "* A class is instance of a metaclass.\n",
    "* All the instance of a class in python is type of metaclass.\n",
    "* Example of metaclass are like str, tuple, dict etc."
   ]
  },
  {
   "cell_type": "code",
   "execution_count": 7,
   "metadata": {},
   "outputs": [],
   "source": [
    "class Robot:\n",
    "    def __new__(cls, type, version):\n",
    "        if version < 2.0:\n",
    "            raise Exception('Old version!')\n",
    "        \n",
    "        return super(Robot, cls).__new__(cls, type, version)\n",
    "    \n",
    "    # def __init__(self, type, version):\n",
    "    #     super(Robot, self).__init__(type, version)\n",
    "\n",
    "class Humanoid:\n",
    "    __metaclass__ = Robot\n",
    "    pass\n",
    "\n",
    "class Drone():\n",
    "    __metaclass__ = Robot\n",
    "    pass"
   ]
  },
  {
   "cell_type": "markdown",
   "metadata": {},
   "source": [
    "Q2. What is the best way to declare a class&#39;s metaclass?"
   ]
  },
  {
   "cell_type": "markdown",
   "metadata": {},
   "source": [
    "Ans: use the keyword `__metaclass__`"
   ]
  },
  {
   "cell_type": "code",
   "execution_count": 9,
   "metadata": {},
   "outputs": [],
   "source": [
    "class Aquatic:\n",
    "    __metaclass__ = Robot # declared metaclass\n",
    "    pass"
   ]
  },
  {
   "cell_type": "markdown",
   "metadata": {},
   "source": [
    "Q3. How do class decorators overlap with metaclasses for handling classes?"
   ]
  },
  {
   "cell_type": "markdown",
   "metadata": {},
   "source": [
    "Ans: \n",
    "\n",
    "* Decorators simply control or decide the behavior of a class with which they are being used.\n",
    "* So does the metaclass does with its classes.\n",
    "* Metaclass takes object of the class and modifies its behavior using `__new__` and `__init__`.\n",
    "* In backend decorators are implemented using metaclass."
   ]
  },
  {
   "cell_type": "markdown",
   "metadata": {},
   "source": [
    "Q4. How do class decorators overlap with metaclasses for handling instances?"
   ]
  },
  {
   "cell_type": "markdown",
   "metadata": {},
   "source": [
    "Ans: \n",
    "\n",
    "* Decorators simply control or decide the behavior of a class with which they are being used.\n",
    "* So does the metaclass does with its classes.\n",
    "* Metaclass takes object of the class and modifies its behavior using `__new__` and `__init__`.\n",
    "* In backend decorators are implemented using metaclass."
   ]
  }
 ],
 "metadata": {
  "kernelspec": {
   "display_name": "Python 3.9.12 ('base')",
   "language": "python",
   "name": "python3"
  },
  "language_info": {
   "codemirror_mode": {
    "name": "ipython",
    "version": 3
   },
   "file_extension": ".py",
   "mimetype": "text/x-python",
   "name": "python",
   "nbconvert_exporter": "python",
   "pygments_lexer": "ipython3",
   "version": "3.9.12"
  },
  "orig_nbformat": 4,
  "vscode": {
   "interpreter": {
    "hash": "198dc38c81252feb4faa0d475279f5f6c993dd4570bd3709069413259282040c"
   }
  }
 },
 "nbformat": 4,
 "nbformat_minor": 2
}
