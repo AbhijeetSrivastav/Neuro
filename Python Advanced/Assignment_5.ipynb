{
 "cells": [
  {
   "cell_type": "markdown",
   "metadata": {},
   "source": [
    "Q1. What is the meaning of multiple inheritance?"
   ]
  },
  {
   "cell_type": "markdown",
   "metadata": {},
   "source": [
    "Ans: Inheriting from multiple classes, i.e a class can have multiple parent classes."
   ]
  },
  {
   "cell_type": "code",
   "execution_count": 1,
   "metadata": {},
   "outputs": [],
   "source": [
    "class Colour:\n",
    "    def __init__(self, r, g, b, a):\n",
    "        self.r = r\n",
    "        self.g = g\n",
    "        self.b = b\n",
    "        self.a = a\n",
    "    \n",
    "    def rgba(self):\n",
    "        return (self.r, self.g, self.b, self.a)\n",
    "\n",
    "class Contrast:\n",
    "    def __init__(self, max, min):\n",
    "        self.max = max\n",
    "        self.min = min\n",
    "    \n",
    "    def avgContrast(self):\n",
    "        return (self.max + self.min) / 2\n",
    "\n",
    "class Image(Colour, Contrast):\n",
    "    def __init__(self, size):\n",
    "        self.size = size"
   ]
  },
  {
   "cell_type": "markdown",
   "metadata": {},
   "source": [
    "Q2. What is the concept of delegation?"
   ]
  },
  {
   "cell_type": "markdown",
   "metadata": {},
   "source": [
    "Ans: Delegation is a class which wraps a main class and limits access to the main class.\n",
    "\n",
    "We include an instance of the main class in the constructor of delegation or wrapper and forward arguments to this instance only."
   ]
  },
  {
   "cell_type": "code",
   "execution_count": 4,
   "metadata": {},
   "outputs": [],
   "source": [
    "class MainClass:\n",
    "    def test(self):\n",
    "        return 'hi i am main class'\n",
    "\n",
    "class Wrapper:\n",
    "    def __init__(self, obj):\n",
    "        self.main = obj\n",
    "    \n",
    "    def test(self):\n",
    "        return 'i am delegation!'"
   ]
  },
  {
   "cell_type": "code",
   "execution_count": 6,
   "metadata": {},
   "outputs": [],
   "source": [
    "m = MainClass()\n",
    "\n",
    "w = Wrapper(m)"
   ]
  },
  {
   "cell_type": "code",
   "execution_count": 7,
   "metadata": {},
   "outputs": [
    {
     "data": {
      "text/plain": [
       "'i am delegation!'"
      ]
     },
     "execution_count": 7,
     "metadata": {},
     "output_type": "execute_result"
    }
   ],
   "source": [
    "w.test()"
   ]
  },
  {
   "cell_type": "code",
   "execution_count": 8,
   "metadata": {},
   "outputs": [
    {
     "data": {
      "text/plain": [
       "'hi i am main class'"
      ]
     },
     "execution_count": 8,
     "metadata": {},
     "output_type": "execute_result"
    }
   ],
   "source": [
    "w.main.test()"
   ]
  },
  {
   "cell_type": "markdown",
   "metadata": {},
   "source": [
    "Q3. What is the concept of composition?"
   ]
  },
  {
   "cell_type": "markdown",
   "metadata": {},
   "source": [
    "Ans: Composition means referring to a class from another class (not inheriting).\n",
    "\n",
    "In this way we can use certain method of a class in another class."
   ]
  },
  {
   "cell_type": "code",
   "execution_count": 21,
   "metadata": {},
   "outputs": [],
   "source": [
    "class Colour:\n",
    "    def __init__(self, r, g, b, a):\n",
    "        self.r = r\n",
    "        self.g = g\n",
    "        self.b = b\n",
    "        self.a = a\n",
    "    \n",
    "    def rgba(self):\n",
    "        return (self.r, self.g, self.b, self.a)\n",
    "\n",
    "class Contrast:\n",
    "    def __init__(self, max, min):\n",
    "        self.max = max\n",
    "        self.min = min\n",
    "\n",
    "        self.r = 2 \n",
    "        self.g = 4\n",
    "        self.b= 5 \n",
    "        self.a = 10\n",
    "    \n",
    "    def avgContrast(self):\n",
    "        return (self.max + self.min) / 2\n",
    "    \n",
    "    def filter(self):\n",
    "        self.colour = Colour(self.r, self.g, self.b, self.a).rgba()\n",
    "\n",
    "        return str(self.colour) + str(self.avgContrast())"
   ]
  },
  {
   "cell_type": "code",
   "execution_count": 22,
   "metadata": {},
   "outputs": [],
   "source": [
    "obj = Contrast(10, 20)"
   ]
  },
  {
   "cell_type": "code",
   "execution_count": 23,
   "metadata": {},
   "outputs": [
    {
     "data": {
      "text/plain": [
       "'(2, 4, 5, 10)15.0'"
      ]
     },
     "execution_count": 23,
     "metadata": {},
     "output_type": "execute_result"
    }
   ],
   "source": [
    "obj.filter()"
   ]
  },
  {
   "cell_type": "markdown",
   "metadata": {},
   "source": [
    "Q4. What are bound methods and how do we use them?"
   ]
  },
  {
   "cell_type": "markdown",
   "metadata": {},
   "source": [
    "Ans: Instance method or bound method are the methods of the class which are accessed via instances and have self as their first argument. "
   ]
  },
  {
   "cell_type": "code",
   "execution_count": 24,
   "metadata": {},
   "outputs": [],
   "source": [
    "class Romeo:\n",
    "    # bound method\n",
    "    def juliet(self):\n",
    "        pass\n",
    "\n",
    "    # bound method\n",
    "    @classmethod\n",
    "    def alpha(self):\n",
    "        pass"
   ]
  },
  {
   "cell_type": "markdown",
   "metadata": {},
   "source": [
    "Q5. What is the purpose of pseudoprivate attributes?"
   ]
  },
  {
   "cell_type": "markdown",
   "metadata": {},
   "source": [
    "Ans:  These attributes are used:\n",
    "\n",
    "* to reduce chance of creating new methods with already existing method names down the tree of the class\n",
    "\n",
    "* to reduce the chance of internal methods being replaced by the methods in the other classes.\n",
    "\n",
    "* to reduce the chance of using the same method name in different classes."
   ]
  },
  {
   "cell_type": "code",
   "execution_count": 25,
   "metadata": {},
   "outputs": [],
   "source": [
    "class X:\n",
    "    def test(self):\n",
    "        pass\n",
    "\n",
    "class Y:\n",
    "    def _test(self):\n",
    "        pass\n",
    "\n",
    "class Z(X):\n",
    "    def beta(self):\n",
    "        self.test()"
   ]
  }
 ],
 "metadata": {
  "kernelspec": {
   "display_name": "Python 3.9.12 ('base')",
   "language": "python",
   "name": "python3"
  },
  "language_info": {
   "codemirror_mode": {
    "name": "ipython",
    "version": 3
   },
   "file_extension": ".py",
   "mimetype": "text/x-python",
   "name": "python",
   "nbconvert_exporter": "python",
   "pygments_lexer": "ipython3",
   "version": "3.9.12"
  },
  "orig_nbformat": 4,
  "vscode": {
   "interpreter": {
    "hash": "198dc38c81252feb4faa0d475279f5f6c993dd4570bd3709069413259282040c"
   }
  }
 },
 "nbformat": 4,
 "nbformat_minor": 2
}
