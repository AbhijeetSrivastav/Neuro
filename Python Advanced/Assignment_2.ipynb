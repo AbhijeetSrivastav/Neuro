{
 "cells": [
  {
   "cell_type": "markdown",
   "metadata": {},
   "source": [
    "Q1. What is the relationship between classes and modules?"
   ]
  },
  {
   "cell_type": "markdown",
   "metadata": {},
   "source": [
    "Ans:\n",
    "\n",
    "* Class is a structure which is used to hold the code in structured way. This structure helps to keep an analogy between the real life stuff and code, over that it make maintenance easy and hide the functionality and data not required from the end user.\n",
    "\n",
    "* Modules are `.py` files which contain various classes and other code which can be imported in any other file for better code reusability  and modularity.\n",
    "\n",
    "* In short modules contain various classes."
   ]
  },
  {
   "cell_type": "markdown",
   "metadata": {},
   "source": [
    "Q2. How do you make instances and classes?"
   ]
  },
  {
   "cell_type": "code",
   "execution_count": 2,
   "metadata": {},
   "outputs": [],
   "source": [
    "# class\n",
    "class Car:\n",
    "    def __init__(self, weight, colour, engine):\n",
    "        self.weight  = weight\n",
    "        self.colour = colour\n",
    "        self.engine = engine\n",
    "\n",
    "\n",
    "# instance or object of the class\n",
    "rover = Car(100, 'red', 'v12')"
   ]
  },
  {
   "cell_type": "markdown",
   "metadata": {},
   "source": [
    "Q3. Where and how should be class attributes created?"
   ]
  },
  {
   "cell_type": "code",
   "execution_count": 3,
   "metadata": {},
   "outputs": [],
   "source": [
    "# class\n",
    "class Car:\n",
    "    # this is class level attribute\n",
    "    wheels = 4\n",
    "    \n",
    "    def __init__(self, weight, colour, engine):\n",
    "        # instance or object level attributes\n",
    "        self.weight  = weight\n",
    "        self.colour = colour\n",
    "        self.engine = engine"
   ]
  },
  {
   "cell_type": "markdown",
   "metadata": {},
   "source": [
    "Q4. Where and how are instance attributes created?"
   ]
  },
  {
   "cell_type": "code",
   "execution_count": 4,
   "metadata": {},
   "outputs": [],
   "source": [
    "# class\n",
    "class Car:\n",
    "    # this is class level attribute\n",
    "    wheels = 4\n",
    "    \n",
    "    def __init__(self, weight, colour, engine):\n",
    "        # instance or object level attributes\n",
    "        self.weight  = weight\n",
    "        self.colour = colour\n",
    "        self.engine = engine"
   ]
  },
  {
   "cell_type": "markdown",
   "metadata": {},
   "source": [
    "Q5. What does the term &quot;self&quot; in a Python class mean?"
   ]
  },
  {
   "cell_type": "markdown",
   "metadata": {},
   "source": [
    "Ans:    `self` refers to the instance of the class or object of the class."
   ]
  },
  {
   "cell_type": "markdown",
   "metadata": {},
   "source": [
    "Q6. How does a Python class handle operator overloading?"
   ]
  },
  {
   "cell_type": "markdown",
   "metadata": {},
   "source": [
    "Ans: operator overloading is handled using the magic methods which are represented using the `__` "
   ]
  },
  {
   "cell_type": "code",
   "execution_count": 10,
   "metadata": {},
   "outputs": [],
   "source": [
    "class Cars:\n",
    "    def __init__(self, number_of_cars):\n",
    "        self.number_of_cars = number_of_cars\n",
    "    \n",
    "    def __add__(self, value):\n",
    "        return self.number_of_cars * value.number_of_cars \n",
    "\n",
    "\n",
    "obj1 = Cars(400)\n",
    "obj2 = Cars(600)"
   ]
  },
  {
   "cell_type": "code",
   "execution_count": 12,
   "metadata": {},
   "outputs": [
    {
     "data": {
      "text/plain": [
       "240000"
      ]
     },
     "execution_count": 12,
     "metadata": {},
     "output_type": "execute_result"
    }
   ],
   "source": [
    "obj1 + obj2 # instead of sum it does multiplication"
   ]
  },
  {
   "cell_type": "markdown",
   "metadata": {},
   "source": [
    "Q7. When do you consider allowing operator overloading of your classes?"
   ]
  },
  {
   "cell_type": "markdown",
   "metadata": {},
   "source": [
    "Ans: we consider allowing operator overloading when we want to have another meaning for the same operator.\n",
    "\n",
    "Same thing is done with + operator to add int as well as concatenate string and concatenate lists."
   ]
  },
  {
   "cell_type": "markdown",
   "metadata": {},
   "source": [
    "Q8. What is the most popular form of operator overloading?"
   ]
  },
  {
   "cell_type": "markdown",
   "metadata": {},
   "source": [
    "Ans: use of the magic method which are represented using `__` is the most popular method of operator overloading."
   ]
  },
  {
   "cell_type": "markdown",
   "metadata": {},
   "source": [
    "Q9. What are the two most important concepts to grasp in order to comprehend Python OOP code?"
   ]
  },
  {
   "cell_type": "markdown",
   "metadata": {},
   "source": [
    "Ans: Class and Object are most important concept.\n",
    "\n",
    "And four pillars of OOPs which are:\n",
    "\n",
    "* polymorphism\n",
    "* encapsulation\n",
    "* inheritance\n",
    "* abstraction"
   ]
  }
 ],
 "metadata": {
  "kernelspec": {
   "display_name": "Python 3.9.12 ('base')",
   "language": "python",
   "name": "python3"
  },
  "language_info": {
   "codemirror_mode": {
    "name": "ipython",
    "version": 3
   },
   "file_extension": ".py",
   "mimetype": "text/x-python",
   "name": "python",
   "nbconvert_exporter": "python",
   "pygments_lexer": "ipython3",
   "version": "3.9.12"
  },
  "orig_nbformat": 4,
  "vscode": {
   "interpreter": {
    "hash": "198dc38c81252feb4faa0d475279f5f6c993dd4570bd3709069413259282040c"
   }
  }
 },
 "nbformat": 4,
 "nbformat_minor": 2
}
