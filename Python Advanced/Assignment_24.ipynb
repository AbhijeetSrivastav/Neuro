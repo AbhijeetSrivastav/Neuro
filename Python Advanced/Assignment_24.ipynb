{
 "cells": [
  {
   "cell_type": "markdown",
   "metadata": {},
   "source": [
    "Q1. Is it permissible to use several import statements to import the same module? What would the\n",
    "goal be? Can you think of a situation where it would be beneficial?"
   ]
  },
  {
   "cell_type": "markdown",
   "metadata": {},
   "source": [
    "Ans: It is possible to use multiple import statements to import a module.\n",
    "\n",
    "We can do this to import several functions and classes from the same module like:\n",
    "\n",
    "`from abc import xyz`\n",
    "\n",
    "`from abc import qrs`\n",
    "\n",
    "\n",
    "But this is not good practice, instead we should import like this:\n",
    "\n",
    "`from abc import xyz, qrs`"
   ]
  },
  {
   "cell_type": "markdown",
   "metadata": {},
   "source": [
    "Q2. What are some of a module&#39;s characteristics? (Name at least one.)"
   ]
  },
  {
   "cell_type": "markdown",
   "metadata": {},
   "source": [
    "Ans:\n",
    "\n",
    "* `__name__` return name fo the module\n",
    "\n",
    "* `__dict__` return dictionary of the functions and classes int he module\n",
    "\n",
    "* `__doc__` shows documentation written within the module"
   ]
  },
  {
   "cell_type": "markdown",
   "metadata": {},
   "source": [
    "Q3. Circular importing, such as when two modules import each other, can lead to dependencies and\n",
    "bugs that aren&#39;t visible. How can you go about creating a program that avoids mutual importing?"
   ]
  },
  {
   "cell_type": "markdown",
   "metadata": {},
   "source": [
    "Ans: Importing class `A` of file `x` in file `y` and importing class `B` of file `y` in file `x`.\n",
    "\n",
    "This leads to circular import as it causes infinite loop.\n",
    "\n",
    "\n",
    "To avoid this infinite loop import these modules in:\n",
    "\n",
    "`if __name__ == \"__main__\":` \n",
    "\n",
    "This invokes the main python class every time it runs thus breaking the loop."
   ]
  },
  {
   "cell_type": "markdown",
   "metadata": {},
   "source": [
    "Q4. Why is _ _all_ _ in Python?"
   ]
  },
  {
   "cell_type": "markdown",
   "metadata": {},
   "source": [
    "Ans: It lists all the module present within the specific library."
   ]
  },
  {
   "cell_type": "markdown",
   "metadata": {},
   "source": [
    "Q5. In what situation is it useful to refer to the _ _name_ _ attribute or the string &#39;_ _main_ _&#39;?"
   ]
  },
  {
   "cell_type": "markdown",
   "metadata": {},
   "source": [
    "Ans: By `__main__` refers to the current running module.\n",
    "\n",
    "By default it refers to the python module.\n",
    "\n",
    "When other module is imported `__main__` refers to that module and `__name__` takes that name."
   ]
  }
 ],
 "metadata": {
  "kernelspec": {
   "display_name": "Python 3.9.12 ('base')",
   "language": "python",
   "name": "python3"
  },
  "language_info": {
   "name": "python",
   "version": "3.9.12"
  },
  "orig_nbformat": 4,
  "vscode": {
   "interpreter": {
    "hash": "198dc38c81252feb4faa0d475279f5f6c993dd4570bd3709069413259282040c"
   }
  }
 },
 "nbformat": 4,
 "nbformat_minor": 2
}
