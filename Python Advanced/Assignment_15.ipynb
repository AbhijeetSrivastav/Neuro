{
 "cells": [
  {
   "cell_type": "markdown",
   "metadata": {},
   "source": [
    "Q1. What are the new features added in Python 3.8 version?"
   ]
  },
  {
   "cell_type": "markdown",
   "metadata": {},
   "source": [
    "Ans: \n",
    "\n",
    "* `:=` walrus operator lets assign a variable inside an expression.\n",
    "\n",
    "* `/` as argument in function which indicates that arguments before it are only meant to be positional and `*` for this argument before it are meant to be only keyword arguments.\n",
    "\n",
    "* Easy debugging of f strings."
   ]
  },
  {
   "cell_type": "markdown",
   "metadata": {},
   "source": [
    "Q2. What is monkey patching in Python?"
   ]
  },
  {
   "cell_type": "markdown",
   "metadata": {},
   "source": [
    "Ans: Making run time or dynamic modification to class is called monkey patching.\n",
    "\n",
    "This provides us ability to change the behavior of class at runtime."
   ]
  },
  {
   "cell_type": "code",
   "execution_count": 2,
   "metadata": {},
   "outputs": [
    {
     "data": {
      "text/plain": [
       "'i am tata'"
      ]
     },
     "execution_count": 2,
     "metadata": {},
     "output_type": "execute_result"
    }
   ],
   "source": [
    "class delta:\n",
    "    def lulu(self):\n",
    "        return 'hi hello bye'\n",
    "\n",
    "def tata(x):\n",
    "    return 'i am tata'\n",
    "\n",
    "\n",
    "delta.lulu = tata\n",
    "obj = delta()\n",
    "obj.lulu()"
   ]
  },
  {
   "cell_type": "markdown",
   "metadata": {},
   "source": [
    "Q3. What is the difference between a shallow copy and deep copy?\n"
   ]
  },
  {
   "cell_type": "markdown",
   "metadata": {},
   "source": [
    "Ans:\n",
    "\n",
    "* `copy()` is shallow copy and change made in copied object leads to change in original object as copied object refers to same memory location as the original one.\n",
    "\n",
    "* `deepcopy()` in this changes made in th e copied object doesn't lead to change in the original object as it is completely new copy of the object stored at another memory location."
   ]
  },
  {
   "cell_type": "markdown",
   "metadata": {},
   "source": [
    "Q4. What is the maximum possible length of an identifier?"
   ]
  },
  {
   "cell_type": "markdown",
   "metadata": {},
   "source": [
    "Ans:79"
   ]
  },
  {
   "cell_type": "markdown",
   "metadata": {},
   "source": [
    "Q5. What is generator comprehension?"
   ]
  },
  {
   "cell_type": "markdown",
   "metadata": {},
   "source": [
    "Ans: We have list comprehension which basically returns a list based on the logic given and is coded in single line.\n",
    "\n",
    "In similar fashion we have generator comprehension which yields a generator object based on the logic and is coded in single line. We then use this generator object to iterate.\n",
    "\n",
    "\n",
    "Syntactically list comprehension is done within [] while generator comprehension is done within (). "
   ]
  },
  {
   "cell_type": "code",
   "execution_count": 3,
   "metadata": {},
   "outputs": [],
   "source": [
    "gen_obj = (x for x in range(100) if x % 2 == 0)"
   ]
  },
  {
   "cell_type": "code",
   "execution_count": 4,
   "metadata": {},
   "outputs": [
    {
     "name": "stdout",
     "output_type": "stream",
     "text": [
      "0 2 4 6 8 10 12 14 16 18 20 22 24 26 28 30 32 34 36 38 40 42 44 46 48 50 52 54 56 58 60 62 64 66 68 70 72 74 76 78 80 82 84 86 88 90 92 94 96 98 "
     ]
    }
   ],
   "source": [
    "for i in gen_obj:\n",
    "    print(i, end=' ')"
   ]
  }
 ],
 "metadata": {
  "kernelspec": {
   "display_name": "Python 3.9.12 ('base')",
   "language": "python",
   "name": "python3"
  },
  "language_info": {
   "codemirror_mode": {
    "name": "ipython",
    "version": 3
   },
   "file_extension": ".py",
   "mimetype": "text/x-python",
   "name": "python",
   "nbconvert_exporter": "python",
   "pygments_lexer": "ipython3",
   "version": "3.9.12"
  },
  "orig_nbformat": 4,
  "vscode": {
   "interpreter": {
    "hash": "198dc38c81252feb4faa0d475279f5f6c993dd4570bd3709069413259282040c"
   }
  }
 },
 "nbformat": 4,
 "nbformat_minor": 2
}
