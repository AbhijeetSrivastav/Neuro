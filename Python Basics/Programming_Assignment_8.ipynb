{
 "cells": [
  {
   "cell_type": "markdown",
   "metadata": {},
   "source": [
    "Q1. Write a Python Program to Add Two Matrices?"
   ]
  },
  {
   "cell_type": "code",
   "execution_count": 157,
   "metadata": {},
   "outputs": [],
   "source": [
    "def AddMatrices(mat1, mat2):\n",
    "    \n",
    "    # check whether both matrix are of the same order\n",
    "    if len(mat1) != len(mat2):\n",
    "        return 'Addition can only be performed on matrices of same order'\n",
    "\n",
    "    # if matrices are of same order \n",
    "    size = len(mat1) + 1\n",
    "    final_Matrix = [[0] * size] * size\n",
    "\n",
    "    # number of rows and columns are same for mat1 and mat2 so any one of them can be taken\n",
    "    rows = len(mat1)\n",
    "    columns = len(mat1) + 1  \n",
    "\n",
    "    for row in range(0, rows):\n",
    "        for column in range(0, columns):\n",
    "            final_Matrix[row][column] = mat1[row][column] + mat2[row][column]\n",
    "    \n",
    "    return final_Matrix"
   ]
  },
  {
   "cell_type": "code",
   "execution_count": 158,
   "metadata": {},
   "outputs": [
    {
     "data": {
      "text/plain": [
       "[[2, 2, 2], [2, 2, 2], [2, 2, 2]]"
      ]
     },
     "execution_count": 158,
     "metadata": {},
     "output_type": "execute_result"
    }
   ],
   "source": [
    "a = [[1,1,1],[1,1,1]]\n",
    "b = [[1,1,1],[1,1,1]]\n",
    "\n",
    "AddMatrices(a, b)"
   ]
  },
  {
   "cell_type": "code",
   "execution_count": 60,
   "metadata": {},
   "outputs": [],
   "source": [
    "# another way by list comprehension\n",
    "\n",
    "def AddMatricesDelta(mat1, mat2):\n",
    "\n",
    "    # check whether both matrix are of the same order\n",
    "    if len(mat1) != len(mat2):\n",
    "        return 'Addition can only be performed on matrices of same order'\n",
    "\n",
    "    # number of rows and columns are same for mat1 and mat2 so any one of them can be taken\n",
    "    rows = len(mat1)\n",
    "    columns = len(mat1) + 1\n",
    "    \n",
    "    final_Matrix = [[mat1[row][column] +  mat2[row][column] for row in range(rows)] for column in range(columns)]\n",
    "\n",
    "    return final_Matrix"
   ]
  },
  {
   "cell_type": "code",
   "execution_count": 61,
   "metadata": {},
   "outputs": [
    {
     "data": {
      "text/plain": [
       "[[2, 2], [2, 2], [2, 2]]"
      ]
     },
     "execution_count": 61,
     "metadata": {},
     "output_type": "execute_result"
    }
   ],
   "source": [
    "a = [[1,1,1],[1,1,1]]\n",
    "b = [[1,1,1],[1,1,1]]\n",
    "\n",
    "AddMatricesDelta(a, b)"
   ]
  },
  {
   "cell_type": "code",
   "execution_count": 70,
   "metadata": {},
   "outputs": [],
   "source": [
    "# another method using zip method\n",
    "\n",
    "def AddMatricesBeta(mat1, mat2):\n",
    "    # check whether both matrix are of the same order\n",
    "    if len(mat1) != len(mat2):\n",
    "        return 'Addition can only be performed on matrices of same order'\n",
    "\n",
    "    final_Matrix = [map(sum, zip(*_)) for _ in zip(mat1, mat2)]\n",
    "\n",
    "    return final_Matrix"
   ]
  },
  {
   "cell_type": "code",
   "execution_count": 73,
   "metadata": {},
   "outputs": [
    {
     "data": {
      "text/plain": [
       "[<map at 0x1f6a183ad30>, <map at 0x1f6a184e850>]"
      ]
     },
     "execution_count": 73,
     "metadata": {},
     "output_type": "execute_result"
    }
   ],
   "source": [
    "a = [[1,1,1],[1,1,1]]\n",
    "b = [[1,1,1],[1,1,1]]\n",
    "\n",
    "AddMatricesBeta(a, b)"
   ]
  },
  {
   "cell_type": "code",
   "execution_count": 74,
   "metadata": {},
   "outputs": [
    {
     "name": "stdout",
     "output_type": "stream",
     "text": [
      "[<map object at 0x000001F6A183A790>, <map object at 0x000001F6A183ABB0>]\n"
     ]
    }
   ],
   "source": [
    "print(AddMatricesBeta(a, b))"
   ]
  },
  {
   "cell_type": "markdown",
   "metadata": {},
   "source": [
    "Q2. Write a Python Program to Multiply Two Matrices?"
   ]
  },
  {
   "cell_type": "code",
   "execution_count": 188,
   "metadata": {},
   "outputs": [],
   "source": [
    "def MulMatrices(mat1, mat2):\n",
    "    final_Matrix = []\n",
    "    # if matrix is n form of m*n and n*a\n",
    "    if len(mat1[0]) == len(mat2):\n",
    "        # making structure of final matrix\n",
    "        for _ in range(len(mat1[0])):\n",
    "            final_Matrix.append([0 for _ in range(len(mat2[0]))])\n",
    "   \n",
    "   \n",
    "    # iterate first matrix by rows \n",
    "    # iterate second matrix by columns\n",
    "    # iterate second matrix by rows for each columns\n",
    "\n",
    "    for i in range(0, len(mat1)):\n",
    "        for j in range(0, len(mat2[0])):\n",
    "            for k in range(0, len(mat2)):\n",
    "                final_Matrix[i][j] += mat1[i][k] * mat2[k][j]\n",
    "\n",
    "    return final_Matrix"
   ]
  },
  {
   "cell_type": "code",
   "execution_count": 190,
   "metadata": {},
   "outputs": [
    {
     "data": {
      "text/plain": [
       "[[48, 60, 56], [132, 159, 146], [216, 258, 236]]"
      ]
     },
     "execution_count": 190,
     "metadata": {},
     "output_type": "execute_result"
    }
   ],
   "source": [
    "a = [[1,2,3],[4,5,6],[7,8,9]]\n",
    "b = [[11,12,13],[14,15,8],[3,6,9]]\n",
    "\n",
    "MulMatrices(mat1 =a, mat2=b)"
   ]
  },
  {
   "cell_type": "markdown",
   "metadata": {},
   "source": [
    "Q3. Write a Python Program to Transpose a Matrix?"
   ]
  },
  {
   "cell_type": "code",
   "execution_count": 193,
   "metadata": {},
   "outputs": [],
   "source": [
    "def TransposeMatrices(mat):\n",
    "    final_Matrix = []\n",
    "    \n",
    "    rows = len(mat)\n",
    "    columns = len(mat[0])\n",
    "\n",
    "    # making structure of final matrix\n",
    "    for _ in range(columns):\n",
    "        final_Matrix.append([0 for _ in range(rows)])\n",
    "\n",
    "    for row in range(rows):\n",
    "        for column in range(columns):\n",
    "            final_Matrix[column][row] = mat[row][column]\n",
    "    \n",
    "    return final_Matrix"
   ]
  },
  {
   "cell_type": "code",
   "execution_count": 194,
   "metadata": {},
   "outputs": [
    {
     "data": {
      "text/plain": [
       "[[12, 4, 7], [7, 5, 8], [3, 6, 9]]"
      ]
     },
     "execution_count": 194,
     "metadata": {},
     "output_type": "execute_result"
    }
   ],
   "source": [
    "a = [[12, 7, 3], [4, 5, 6],[7, 8, 9]]\n",
    "\n",
    "TransposeMatrices(a)"
   ]
  },
  {
   "cell_type": "markdown",
   "metadata": {},
   "source": [
    "Q4. Write a Python Program to Sort Words in Alphabetic Order?"
   ]
  },
  {
   "cell_type": "code",
   "execution_count": 197,
   "metadata": {},
   "outputs": [],
   "source": [
    "def sortString(value: str):\n",
    "    sorted_value = sorted(value.title().split(' '))\n",
    "    return ' '.join(sorted_value)"
   ]
  },
  {
   "cell_type": "code",
   "execution_count": 198,
   "metadata": {},
   "outputs": [
    {
     "data": {
      "text/plain": [
       "'Abhijeet Srivastav'"
      ]
     },
     "execution_count": 198,
     "metadata": {},
     "output_type": "execute_result"
    }
   ],
   "source": [
    "sortString('srivastav abhijeet')"
   ]
  },
  {
   "cell_type": "markdown",
   "metadata": {},
   "source": [
    "Q5. Write a Python Program to Remove Punctuation From a String?"
   ]
  },
  {
   "cell_type": "code",
   "execution_count": 223,
   "metadata": {},
   "outputs": [],
   "source": [
    "def removePunctuation(value: str):\n",
    "    obstacles = '''!()-[]{};:'\"\\,<>./?@#$%^&*_~'''\n",
    "\n",
    "    result = ''\n",
    " \n",
    "    for _ in value:\n",
    "        if _ not in obstacles:\n",
    "            result += _ \n",
    "    return result          "
   ]
  },
  {
   "cell_type": "code",
   "execution_count": 224,
   "metadata": {},
   "outputs": [
    {
     "data": {
      "text/plain": [
       "'AbhijeetSrivastav'"
      ]
     },
     "execution_count": 224,
     "metadata": {},
     "output_type": "execute_result"
    }
   ],
   "source": [
    "removePunctuation('Abhijeet,Srivastav')"
   ]
  }
 ],
 "metadata": {
  "kernelspec": {
   "display_name": "Python 3.9.12 ('base')",
   "language": "python",
   "name": "python3"
  },
  "language_info": {
   "codemirror_mode": {
    "name": "ipython",
    "version": 3
   },
   "file_extension": ".py",
   "mimetype": "text/x-python",
   "name": "python",
   "nbconvert_exporter": "python",
   "pygments_lexer": "ipython3",
   "version": "3.9.12"
  },
  "orig_nbformat": 4,
  "vscode": {
   "interpreter": {
    "hash": "198dc38c81252feb4faa0d475279f5f6c993dd4570bd3709069413259282040c"
   }
  }
 },
 "nbformat": 4,
 "nbformat_minor": 2
}
