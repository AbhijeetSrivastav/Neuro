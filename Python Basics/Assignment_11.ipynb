{
 "cells": [
  {
   "cell_type": "markdown",
   "metadata": {},
   "source": [
    "Q1. Create an assert statement that throws an AssertionError if the variable spam is a negative\n",
    "integer."
   ]
  },
  {
   "cell_type": "code",
   "execution_count": 9,
   "metadata": {},
   "outputs": [],
   "source": [
    "def assertChecker(spam):\n",
    "    assert spam >= 0, 'Spam is less than 0'\n",
    "    print('All good!')"
   ]
  },
  {
   "cell_type": "code",
   "execution_count": 10,
   "metadata": {},
   "outputs": [
    {
     "ename": "AssertionError",
     "evalue": "Spam is less than 0",
     "output_type": "error",
     "traceback": [
      "\u001b[1;31m---------------------------------------------------------------------------\u001b[0m",
      "\u001b[1;31mAssertionError\u001b[0m                            Traceback (most recent call last)",
      "\u001b[1;32md:\\Ineuron\\Neuro\\Python Basics\\Assignment_11.ipynb Cell 3\u001b[0m in \u001b[0;36m<cell line: 1>\u001b[1;34m()\u001b[0m\n\u001b[1;32m----> <a href='vscode-notebook-cell:/d%3A/Ineuron/Neuro/Python%20Basics/Assignment_11.ipynb#ch0000004?line=0'>1</a>\u001b[0m assertChecker(\u001b[39m-\u001b[39;49m\u001b[39m2\u001b[39;49m)\n",
      "\u001b[1;32md:\\Ineuron\\Neuro\\Python Basics\\Assignment_11.ipynb Cell 3\u001b[0m in \u001b[0;36massertChecker\u001b[1;34m(spam)\u001b[0m\n\u001b[0;32m      <a href='vscode-notebook-cell:/d%3A/Ineuron/Neuro/Python%20Basics/Assignment_11.ipynb#ch0000004?line=0'>1</a>\u001b[0m \u001b[39mdef\u001b[39;00m \u001b[39massertChecker\u001b[39m(spam):\n\u001b[1;32m----> <a href='vscode-notebook-cell:/d%3A/Ineuron/Neuro/Python%20Basics/Assignment_11.ipynb#ch0000004?line=1'>2</a>\u001b[0m     \u001b[39massert\u001b[39;00m spam \u001b[39m>\u001b[39m\u001b[39m=\u001b[39m \u001b[39m0\u001b[39m, \u001b[39m'\u001b[39m\u001b[39mSpam is less than 0\u001b[39m\u001b[39m'\u001b[39m\n\u001b[0;32m      <a href='vscode-notebook-cell:/d%3A/Ineuron/Neuro/Python%20Basics/Assignment_11.ipynb#ch0000004?line=2'>3</a>\u001b[0m     \u001b[39mprint\u001b[39m(\u001b[39m'\u001b[39m\u001b[39mAll good!\u001b[39m\u001b[39m'\u001b[39m)\n",
      "\u001b[1;31mAssertionError\u001b[0m: Spam is less than 0"
     ]
    }
   ],
   "source": [
    "assertChecker(-2)"
   ]
  },
  {
   "cell_type": "markdown",
   "metadata": {},
   "source": [
    "Q2. Write an assert statement that triggers an AssertionError if the variables eggs and bacon contain\n",
    "strings that are the same as each other, even if their cases are different (that is, &#39;hello&#39; and &#39;hello&#39; are\n",
    "considered the same, and &#39;goodbye&#39; and &#39;GOODbye&#39; are also considered the same)."
   ]
  },
  {
   "cell_type": "code",
   "execution_count": 11,
   "metadata": {},
   "outputs": [],
   "source": [
    "def assertTester(eggs, bacon):\n",
    "    assert eggs.lower() == bacon.lower(), 'Eggs and bacon are not same'\n",
    "    print('Eggs and bacon are same')\n"
   ]
  },
  {
   "cell_type": "code",
   "execution_count": 14,
   "metadata": {},
   "outputs": [
    {
     "name": "stdout",
     "output_type": "stream",
     "text": [
      "Eggs and bacon are same\n"
     ]
    }
   ],
   "source": [
    "assertTester('HI', 'hi')"
   ]
  },
  {
   "cell_type": "code",
   "execution_count": 13,
   "metadata": {},
   "outputs": [
    {
     "ename": "AssertionError",
     "evalue": "Eggs and bacon are not same",
     "output_type": "error",
     "traceback": [
      "\u001b[1;31m---------------------------------------------------------------------------\u001b[0m",
      "\u001b[1;31mAssertionError\u001b[0m                            Traceback (most recent call last)",
      "\u001b[1;32md:\\Ineuron\\Neuro\\Python Basics\\Assignment_11.ipynb Cell 6\u001b[0m in \u001b[0;36m<cell line: 1>\u001b[1;34m()\u001b[0m\n\u001b[1;32m----> <a href='vscode-notebook-cell:/d%3A/Ineuron/Neuro/Python%20Basics/Assignment_11.ipynb#ch0000007?line=0'>1</a>\u001b[0m assertTester(\u001b[39m'\u001b[39;49m\u001b[39mhi\u001b[39;49m\u001b[39m'\u001b[39;49m, \u001b[39m'\u001b[39;49m\u001b[39mHERI\u001b[39;49m\u001b[39m'\u001b[39;49m)\n",
      "\u001b[1;32md:\\Ineuron\\Neuro\\Python Basics\\Assignment_11.ipynb Cell 6\u001b[0m in \u001b[0;36massertTester\u001b[1;34m(eggs, bacon)\u001b[0m\n\u001b[0;32m      <a href='vscode-notebook-cell:/d%3A/Ineuron/Neuro/Python%20Basics/Assignment_11.ipynb#ch0000007?line=0'>1</a>\u001b[0m \u001b[39mdef\u001b[39;00m \u001b[39massertTester\u001b[39m(eggs, bacon):\n\u001b[1;32m----> <a href='vscode-notebook-cell:/d%3A/Ineuron/Neuro/Python%20Basics/Assignment_11.ipynb#ch0000007?line=1'>2</a>\u001b[0m     \u001b[39massert\u001b[39;00m eggs\u001b[39m.\u001b[39mlower() \u001b[39m==\u001b[39m bacon\u001b[39m.\u001b[39mlower(), \u001b[39m'\u001b[39m\u001b[39mEggs and bacon are not same\u001b[39m\u001b[39m'\u001b[39m\n\u001b[0;32m      <a href='vscode-notebook-cell:/d%3A/Ineuron/Neuro/Python%20Basics/Assignment_11.ipynb#ch0000007?line=2'>3</a>\u001b[0m     \u001b[39mprint\u001b[39m(\u001b[39m'\u001b[39m\u001b[39mEggs and bacon are same\u001b[39m\u001b[39m'\u001b[39m)\n",
      "\u001b[1;31mAssertionError\u001b[0m: Eggs and bacon are not same"
     ]
    }
   ],
   "source": [
    "assertTester('hi', 'HERI')"
   ]
  },
  {
   "cell_type": "markdown",
   "metadata": {},
   "source": [
    "Q3. Create an assert statement that throws an AssertionError every time."
   ]
  },
  {
   "cell_type": "code",
   "execution_count": 15,
   "metadata": {},
   "outputs": [
    {
     "ename": "AssertionError",
     "evalue": "Always assertion error",
     "output_type": "error",
     "traceback": [
      "\u001b[1;31m---------------------------------------------------------------------------\u001b[0m",
      "\u001b[1;31mAssertionError\u001b[0m                            Traceback (most recent call last)",
      "\u001b[1;32md:\\Ineuron\\Neuro\\Python Basics\\Assignment_11.ipynb Cell 9\u001b[0m in \u001b[0;36m<cell line: 1>\u001b[1;34m()\u001b[0m\n\u001b[1;32m----> <a href='vscode-notebook-cell:/d%3A/Ineuron/Neuro/Python%20Basics/Assignment_11.ipynb#ch0000008?line=0'>1</a>\u001b[0m \u001b[39massert\u001b[39;00m \u001b[39mFalse\u001b[39;00m, \u001b[39m'\u001b[39m\u001b[39mAlways assertion error\u001b[39m\u001b[39m'\u001b[39m\n\u001b[0;32m      <a href='vscode-notebook-cell:/d%3A/Ineuron/Neuro/Python%20Basics/Assignment_11.ipynb#ch0000008?line=1'>2</a>\u001b[0m \u001b[39mprint\u001b[39m(\u001b[39m'\u001b[39m\u001b[39mYO their is no assertion error which will not happen in this case\u001b[39m\u001b[39m'\u001b[39m)\n",
      "\u001b[1;31mAssertionError\u001b[0m: Always assertion error"
     ]
    }
   ],
   "source": [
    "assert False, 'Always assertion error'\n",
    "print('YO their is no assertion error which will not happen in this case')"
   ]
  },
  {
   "cell_type": "markdown",
   "metadata": {},
   "source": [
    "Q4. What are the two lines that must be present in your software in order to call logging.debug()?\n",
    "\n",
    "Ans: \n",
    "\n",
    "* import logging and import ipdb (if it is jupyter notebook)\n",
    "* lg.basicConfig(filename='test.log', level = lg.INFO, format='%(asctime)s %(levelname)s %(message)s')"
   ]
  },
  {
   "cell_type": "markdown",
   "metadata": {},
   "source": [
    "Q5. What are the two lines that your program must have in order to have logging.debug() send a\n",
    "logging message to a file named programLog.txt?\n",
    "\n",
    "Ans: \n",
    "\n",
    "* import logging \n",
    "* lg.basicConfig(filename='programLog.log', level = lg.INFO, format='%(asctime)s %(levelname)s %(message)s')"
   ]
  },
  {
   "cell_type": "markdown",
   "metadata": {},
   "source": [
    "Q6. What are the various logging level?\n",
    "\n",
    "Ans:\n",
    "* logging.debug() - variable's state and small details\n",
    "* logging.info() - general events, confirm a program is working\n",
    "* logging.warning() - potential problem to work on in the future\n",
    "* logging.error() - record an error that caused program to fail to do something\n",
    "* logging.critical() - fatal error that has caused"
   ]
  },
  {
   "cell_type": "markdown",
   "metadata": {},
   "source": [
    "Q7. What line of code would you add to your software to disable all logging messages?\n",
    "\n",
    "Ans: loggging.disable(logging.DEBUG)"
   ]
  },
  {
   "cell_type": "markdown",
   "metadata": {},
   "source": [
    "Q8.Why is using logging messages better than using print() to display the same message?\n",
    "\n",
    "Ans: Due to following reasons:\n",
    "\n",
    "* Easier to debug\n",
    "* we can save the log data either in a file or in a data base for further debugging\n",
    "* more info about a specific type or issue can be returned\n",
    "* categorization of error comes in handy"
   ]
  },
  {
   "cell_type": "markdown",
   "metadata": {},
   "source": [
    "Q9. What are the differences between the Step Over, Step In, and Step Out buttons in the debugger?\n",
    "\n",
    "Ans:  \n",
    "\n",
    "* Step - one line execution at a time\n",
    "* Over - execute the next line of code, but if it is a program, it will complete the entire function call.\n",
    "* out  - execute the lines of code unti it returns from the current function. (out is useful when you stepped into a function call)."
   ]
  },
  {
   "cell_type": "markdown",
   "metadata": {},
   "source": [
    "Q10.After you click Continue, when will the debugger stop ?\n",
    "\n",
    "Ans: until the program terminates or breakpoint reached"
   ]
  },
  {
   "cell_type": "markdown",
   "metadata": {},
   "source": [
    "Q11. What is the concept of a breakpoint?\n",
    "\n",
    "Ans: By right clicking any line in the IDE while the debugger is on marks that line as a point where the execution of the code pauses till user resumes its execution manually."
   ]
  }
 ],
 "metadata": {
  "kernelspec": {
   "display_name": "Python 3.9.12 ('base')",
   "language": "python",
   "name": "python3"
  },
  "language_info": {
   "codemirror_mode": {
    "name": "ipython",
    "version": 3
   },
   "file_extension": ".py",
   "mimetype": "text/x-python",
   "name": "python",
   "nbconvert_exporter": "python",
   "pygments_lexer": "ipython3",
   "version": "3.9.12"
  },
  "orig_nbformat": 4,
  "vscode": {
   "interpreter": {
    "hash": "198dc38c81252feb4faa0d475279f5f6c993dd4570bd3709069413259282040c"
   }
  }
 },
 "nbformat": 4,
 "nbformat_minor": 2
}
