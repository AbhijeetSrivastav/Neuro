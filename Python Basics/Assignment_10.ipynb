{
 "cells": [
  {
   "cell_type": "markdown",
   "metadata": {},
   "source": [
    "Q1. How do you distinguish between shutil.copy() and shutil.copytree()?\n",
    "\n",
    "Ans: \n",
    "* shutil.copy(): copies an entire file\n",
    "* shutil.copytree(): copies entire folder including all the folder and files within it."
   ]
  },
  {
   "cell_type": "markdown",
   "metadata": {},
   "source": [
    "Q2. What function is used to rename files??\n",
    "\n",
    "Ans: \n",
    "* shutil.move('my_folder_current', 'new_folder')\n",
    "* os.rename(src, dst)"
   ]
  },
  {
   "cell_type": "markdown",
   "metadata": {},
   "source": [
    "Q3. What is the difference between the delete functions in the send2trash and shutil modules?\n",
    "\n",
    "Ans: delete in send2trash actually sends the file to recycle bin while in shutil modules it permanently deletes the file."
   ]
  },
  {
   "cell_type": "markdown",
   "metadata": {},
   "source": [
    "Q4.ZipFile objects have a close() method just like File objects’ close() method. What ZipFile method is\n",
    "equivalent to File objects’ open() method?\n",
    "\n",
    "Ans: ZipFile(filepath)"
   ]
  },
  {
   "cell_type": "markdown",
   "metadata": {},
   "source": [
    "Q5. Create a programme that searches a folder tree for files with a certain file extension (such as .pdf\n",
    "or .jpg). Copy these files from whatever location they are in to a new folder."
   ]
  },
  {
   "cell_type": "code",
   "execution_count": 2,
   "metadata": {},
   "outputs": [],
   "source": [
    "import os\n",
    "import shutil\n",
    "\n",
    "def SearchAndCopy(sourceFolder, extensions, destinationFolder):\n",
    "    # taking the absolute path of source and destination\n",
    "    folder = os.path.abspath(folder)\n",
    "    destinationFolder = os.path(destinationFolder)\n",
    "\n",
    "    # searching for folders, sub folders and files in source folder\n",
    "    for folderName, subFolders, fileNames in os.walk(folder):\n",
    "\n",
    "        # loop over each file in fileNames list\n",
    "        for fileName in fileNames:\n",
    "\n",
    "            # split the name and extension of file from fileNames list into\n",
    "            # name and extension\n",
    "            name, extension = os.path.splitext(fileName)\n",
    "            \n",
    "            # if the extension of the current file is in the given list of extensions\n",
    "            if  extension in extensions:\n",
    "                #  take the absolute path of that file\n",
    "                fileAbsPath = folderName + os.path.sep + fileName\n",
    "\n",
    "                # copy that specific file to the destination folder\n",
    "                shutil.copy(fileAbsPath, destinationFolder)"
   ]
  }
 ],
 "metadata": {
  "kernelspec": {
   "display_name": "Python 3.9.12 ('base')",
   "language": "python",
   "name": "python3"
  },
  "language_info": {
   "codemirror_mode": {
    "name": "ipython",
    "version": 3
   },
   "file_extension": ".py",
   "mimetype": "text/x-python",
   "name": "python",
   "nbconvert_exporter": "python",
   "pygments_lexer": "ipython3",
   "version": "3.9.12"
  },
  "orig_nbformat": 4,
  "vscode": {
   "interpreter": {
    "hash": "198dc38c81252feb4faa0d475279f5f6c993dd4570bd3709069413259282040c"
   }
  }
 },
 "nbformat": 4,
 "nbformat_minor": 2
}
