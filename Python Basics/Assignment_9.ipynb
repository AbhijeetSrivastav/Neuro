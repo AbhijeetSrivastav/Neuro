{
 "cells": [
  {
   "cell_type": "markdown",
   "metadata": {},
   "source": [
    "Q1. To what does a relative path refer?\n",
    "\n",
    "Ans: relative path means location of a director relative or with respect to current directory."
   ]
  },
  {
   "cell_type": "markdown",
   "metadata": {},
   "source": [
    "Q2. What does an absolute path start with your operating system?\n",
    "\n",
    "Ans: absolute path means location with respect to root\n",
    "\n",
    "On windows system it is something like C:\\Users\\User_name\\"
   ]
  },
  {
   "cell_type": "markdown",
   "metadata": {},
   "source": [
    "Q3. What do the functions os.getcwd() and os.chdir() do?\n",
    "\n",
    "Ans:\n",
    "\n",
    "* os.getcwd() returns the current working directory in which we are currently.\n",
    "* os.chdir() used to change the current working directory to another one."
   ]
  },
  {
   "cell_type": "code",
   "execution_count": 1,
   "metadata": {},
   "outputs": [
    {
     "data": {
      "text/plain": [
       "'d:\\\\Ineuron\\\\Neuro\\\\Python Basics'"
      ]
     },
     "execution_count": 1,
     "metadata": {},
     "output_type": "execute_result"
    }
   ],
   "source": [
    "import os\n",
    "os.getcwd()"
   ]
  },
  {
   "cell_type": "code",
   "execution_count": null,
   "metadata": {},
   "outputs": [],
   "source": [
    "os.chdir(path='another directory path here')"
   ]
  },
  {
   "cell_type": "markdown",
   "metadata": {},
   "source": [
    "Q4. What are the . and .. folders?\n",
    "\n",
    "Ans:\n",
    "\n",
    "* . is used to pass the current working directory as argument in windows and used to execute a file in the current working directory in the linux.\n",
    "\n",
    "* .. is used to move one level up in the directory"
   ]
  },
  {
   "cell_type": "markdown",
   "metadata": {},
   "source": [
    "Q5. In C:\\bacon\\eggs\\spam.txt, which part is the dir name, and which part is the base name?\n",
    "\n",
    "Ans:\n",
    "\n",
    "* Directory names: C:\\bacon\\eggs\n",
    "* Base name: spam.txt"
   ]
  },
  {
   "cell_type": "markdown",
   "metadata": {},
   "source": [
    "Q6. What are the three “mode” arguments that can be passed to the open() function?\n",
    "\n",
    "Ans: There are more than three modes available to open a file using the open method. Main of them are:\n",
    "\n",
    "* r: Opens the file in read-only mode. \n",
    "* rb: Opens the file as read-only in binary format.\n",
    "* r+: Opens a file for reading and writing.\n",
    "* w: Opens in write-only mode. \n",
    "* wb: Opens a write-only file in binary mode.\n",
    "* w+: Opens a file for writing and reading.\n",
    "* wb+: Opens a file for writing and reading in binary mode."
   ]
  },
  {
   "cell_type": "markdown",
   "metadata": {},
   "source": [
    "Q7. What happens if an existing file is opened in write mode?\n",
    "\n",
    "Ans: All the data within the file get deleted."
   ]
  },
  {
   "cell_type": "markdown",
   "metadata": {},
   "source": [
    "Q8. How do you tell the difference between read() and readlines()?\n",
    "\n",
    "Ans:\n",
    "\n",
    "* read() : it returns all the lines of file as single long string.\n",
    "* readlines(): it returns all the lines of file as list of strings where each string is a different line."
   ]
  },
  {
   "cell_type": "markdown",
   "metadata": {},
   "source": [
    "Q9. What data structure does a shelf value resemble?\n",
    "\n",
    "Ans: dictionary"
   ]
  }
 ],
 "metadata": {
  "kernelspec": {
   "display_name": "Python 3.9.12 ('base')",
   "language": "python",
   "name": "python3"
  },
  "language_info": {
   "codemirror_mode": {
    "name": "ipython",
    "version": 3
   },
   "file_extension": ".py",
   "mimetype": "text/x-python",
   "name": "python",
   "nbconvert_exporter": "python",
   "pygments_lexer": "ipython3",
   "version": "3.9.12"
  },
  "orig_nbformat": 4,
  "vscode": {
   "interpreter": {
    "hash": "198dc38c81252feb4faa0d475279f5f6c993dd4570bd3709069413259282040c"
   }
  }
 },
 "nbformat": 4,
 "nbformat_minor": 2
}
